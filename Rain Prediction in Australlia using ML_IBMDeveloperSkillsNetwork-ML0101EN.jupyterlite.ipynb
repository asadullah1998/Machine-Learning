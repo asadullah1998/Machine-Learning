{
  "metadata": {
    "language_info": {
      "codemirror_mode": {
        "name": "python",
        "version": 3
      },
      "file_extension": ".py",
      "mimetype": "text/x-python",
      "name": "python",
      "nbconvert_exporter": "python",
      "pygments_lexer": "ipython3",
      "version": "3.8"
    },
    "kernelspec": {
      "name": "python",
      "display_name": "Pyolite",
      "language": "python"
    }
  },
  "nbformat_minor": 4,
  "nbformat": 4,
  "cells": [
    {
      "cell_type": "markdown",
      "source": "<p style=\"text-align:center\">\n    <a href=\"https://skills.network/?utm_medium=Exinfluencer&utm_source=Exinfluencer&utm_content=000026UJ&utm_term=10006555&utm_id=NA-SkillsNetwork-Channel-SkillsNetworkCoursesIBMDeveloperSkillsNetworkML0101ENSkillsNetwork20718538-2022-01-01\">\n    <img src=\"https://cf-courses-data.s3.us.cloud-object-storage.appdomain.cloud/assets/logos/SN_web_lightmode.png\" width=\"200\" alt=\"Skills Network Logo\"  />\n    </a>\n</p>\n\n<h1 align=\"center\"><font size=\"5\">Final Project: Classification with Python</font></h1>\n",
      "metadata": {}
    },
    {
      "cell_type": "markdown",
      "source": "# About The Dataset\n",
      "metadata": {}
    },
    {
      "cell_type": "markdown",
      "source": "The original source of the data is Australian Government's Bureau of Meteorology and the latest data can be gathered from [http://www.bom.gov.au/climate/dwo/](http://www.bom.gov.au/climate/dwo/?utm_medium=Exinfluencer&utm_source=Exinfluencer&utm_content=000026UJ&utm_term=10006555&utm_id=NA-SkillsNetwork-Channel-SkillsNetworkCoursesIBMDeveloperSkillsNetworkML0101ENSkillsNetwork20718538-2022-01-01).\n\nThe dataset to be used has extra columns like 'RainToday' and our target is 'RainTomorrow', which was gathered from the Rattle at [https://bitbucket.org/kayontoga/rattle/src/master/data/weatherAUS.RData](https://bitbucket.org/kayontoga/rattle/src/master/data/weatherAUS.RData?utm_medium=Exinfluencer&utm_source=Exinfluencer&utm_content=000026UJ&utm_term=10006555&utm_id=NA-SkillsNetwork-Channel-SkillsNetworkCoursesIBMDeveloperSkillsNetworkML0101ENSkillsNetwork20718538-2022-01-01)\n\n\n",
      "metadata": {}
    },
    {
      "cell_type": "markdown",
      "source": "This dataset contains observations of weather metrics for each day from 2008 to 2017. The **weatherAUS.csv** dataset includes the following fields:\n\n| Field         | Description                                           | Unit            | Type   |\n| ------------- | ----------------------------------------------------- | --------------- | ------ |\n| Date          | Date of the Observation in YYYY-MM-DD                 | Date            | object |\n| Location      | Location of the Observation                           | Location        | object |\n| MinTemp       | Minimum temperature                                   | Celsius         | float  |\n| MaxTemp       | Maximum temperature                                   | Celsius         | float  |\n| Rainfall      | Amount of rainfall                                    | Millimeters     | float  |\n| Evaporation   | Amount of evaporation                                 | Millimeters     | float  |\n| Sunshine      | Amount of bright sunshine                             | hours           | float  |\n| WindGustDir   | Direction of the strongest gust                       | Compass Points  | object |\n| WindGustSpeed | Speed of the strongest gust                           | Kilometers/Hour | object |\n| WindDir9am    | Wind direction averaged of 10 minutes prior to 9am    | Compass Points  | object |\n| WindDir3pm    | Wind direction averaged of 10 minutes prior to 3pm    | Compass Points  | object |\n| WindSpeed9am  | Wind speed averaged of 10 minutes prior to 9am        | Kilometers/Hour | float  |\n| WindSpeed3pm  | Wind speed averaged of 10 minutes prior to 3pm        | Kilometers/Hour | float  |\n| Humidity9am   | Humidity at 9am                                       | Percent         | float  |\n| Humidity3pm   | Humidity at 3pm                                       | Percent         | float  |\n| Pressure9am   | Atmospheric pressure reduced to mean sea level at 9am | Hectopascal     | float  |\n| Pressure3pm   | Atmospheric pressure reduced to mean sea level at 3pm | Hectopascal     | float  |\n| Cloud9am      | Fraction of the sky obscured by cloud at 9am          | Eights          | float  |\n| Cloud3pm      | Fraction of the sky obscured by cloud at 3pm          | Eights          | float  |\n| Temp9am       | Temperature at 9am                                    | Celsius         | float  |\n| Temp3pm       | Temperature at 3pm                                    | Celsius         | float  |\n| RainToday     | If there was rain today                               | Yes/No          | object |\n| RainTomorrow  | If there is rain tomorrow                             | Yes/No          | float  |\n\nColumn definitions were gathered from [http://www.bom.gov.au/climate/dwo/IDCJDW0000.shtml](http://www.bom.gov.au/climate/dwo/IDCJDW0000.shtml?utm_medium=Exinfluencer&utm_source=Exinfluencer&utm_content=000026UJ&utm_term=10006555&utm_id=NA-SkillsNetwork-Channel-SkillsNetworkCoursesIBMDeveloperSkillsNetworkML0101ENSkillsNetwork20718538-2022-01-01)\n\n",
      "metadata": {}
    },
    {
      "cell_type": "markdown",
      "source": "## **Import the required libraries**\n",
      "metadata": {}
    },
    {
      "cell_type": "code",
      "source": "# All Libraries required for this lab are listed below. The libraries pre-installed on Skills Network Labs are commented.\n# !mamba install -qy pandas==1.3.4 numpy==1.21.4 seaborn==0.9.0 matplotlib==3.5.0 scikit-learn==0.20.1\n# Note: If your environment doesn't support \"!mamba install\", use \"!pip install\"",
      "metadata": {},
      "execution_count": null,
      "outputs": []
    },
    {
      "cell_type": "code",
      "source": "# Surpress warnings:\ndef warn(*args, **kwargs):\n    pass\nimport warnings\nwarnings.warn = warn",
      "metadata": {
        "trusted": true
      },
      "execution_count": 1,
      "outputs": []
    },
    {
      "cell_type": "code",
      "source": "#you are running the lab in your  browser, so we will install the libraries using ``piplite``\nimport piplite\nawait piplite.install(['pandas'])\nawait piplite.install(['numpy'])\n",
      "metadata": {
        "trusted": true
      },
      "execution_count": 2,
      "outputs": []
    },
    {
      "cell_type": "code",
      "source": "import pandas as pd\nfrom sklearn.linear_model import LogisticRegression\nfrom sklearn.linear_model import LinearRegression\nfrom sklearn import preprocessing\nimport numpy as np\nfrom sklearn.model_selection import train_test_split\nfrom sklearn.neighbors import KNeighborsClassifier\nfrom sklearn.tree import DecisionTreeClassifier\nfrom sklearn import svm\nfrom sklearn.metrics import jaccard_score\nfrom sklearn.metrics import f1_score\nfrom sklearn.metrics import log_loss\nfrom sklearn.metrics import confusion_matrix, accuracy_score\nimport sklearn.metrics as metrics",
      "metadata": {
        "trusted": true
      },
      "execution_count": 3,
      "outputs": []
    },
    {
      "cell_type": "markdown",
      "source": "### Importing the Dataset\n",
      "metadata": {}
    },
    {
      "cell_type": "code",
      "source": "from pyodide.http import pyfetch\n\nasync def download(url, filename):\n    response = await pyfetch(url)\n    if response.status == 200:\n        with open(filename, \"wb\") as f:\n            f.write(await response.bytes())",
      "metadata": {
        "trusted": true
      },
      "execution_count": 4,
      "outputs": []
    },
    {
      "cell_type": "code",
      "source": "path='https://cf-courses-data.s3.us.cloud-object-storage.appdomain.cloud/IBMDeveloperSkillsNetwork-ML0101EN-SkillUp/labs/ML-FinalAssignment/Weather_Data.csv'",
      "metadata": {
        "trusted": true
      },
      "execution_count": 5,
      "outputs": []
    },
    {
      "cell_type": "code",
      "source": "await download(path, \"Weather_Data.csv\")\nfilename =\"Weather_Data.csv\"",
      "metadata": {
        "trusted": true
      },
      "execution_count": 6,
      "outputs": []
    },
    {
      "cell_type": "code",
      "source": "df = pd.read_csv(\"Weather_Data.csv\")\ndf.head()",
      "metadata": {
        "trusted": true
      },
      "execution_count": 8,
      "outputs": [
        {
          "execution_count": 8,
          "output_type": "execute_result",
          "data": {
            "text/plain": "       Date  MinTemp  MaxTemp  Rainfall  Evaporation  Sunshine WindGustDir  \\\n0  2/1/2008     19.5     22.4      15.6          6.2       0.0           W   \n1  2/2/2008     19.5     25.6       6.0          3.4       2.7           W   \n2  2/3/2008     21.6     24.5       6.6          2.4       0.1           W   \n3  2/4/2008     20.2     22.8      18.8          2.2       0.0           W   \n4  2/5/2008     19.7     25.7      77.4          4.8       0.0           W   \n\n   WindGustSpeed WindDir9am WindDir3pm  ...  Humidity9am  Humidity3pm  \\\n0             41          S        SSW  ...           92           84   \n1             41          W          E  ...           83           73   \n2             41        ESE        ESE  ...           88           86   \n3             41        NNE          E  ...           83           90   \n4             41        NNE          W  ...           88           74   \n\n   Pressure9am  Pressure3pm  Cloud9am  Cloud3pm  Temp9am  Temp3pm  RainToday  \\\n0       1017.6       1017.4         8         8     20.7     20.9        Yes   \n1       1017.9       1016.4         7         7     22.4     24.8        Yes   \n2       1016.7       1015.6         7         8     23.5     23.0        Yes   \n3       1014.2       1011.8         8         8     21.4     20.9        Yes   \n4       1008.3       1004.8         8         8     22.5     25.5        Yes   \n\n   RainTomorrow  \n0           Yes  \n1           Yes  \n2           Yes  \n3           Yes  \n4           Yes  \n\n[5 rows x 22 columns]",
            "text/html": "<div>\n<style scoped>\n    .dataframe tbody tr th:only-of-type {\n        vertical-align: middle;\n    }\n\n    .dataframe tbody tr th {\n        vertical-align: top;\n    }\n\n    .dataframe thead th {\n        text-align: right;\n    }\n</style>\n<table border=\"1\" class=\"dataframe\">\n  <thead>\n    <tr style=\"text-align: right;\">\n      <th></th>\n      <th>Date</th>\n      <th>MinTemp</th>\n      <th>MaxTemp</th>\n      <th>Rainfall</th>\n      <th>Evaporation</th>\n      <th>Sunshine</th>\n      <th>WindGustDir</th>\n      <th>WindGustSpeed</th>\n      <th>WindDir9am</th>\n      <th>WindDir3pm</th>\n      <th>...</th>\n      <th>Humidity9am</th>\n      <th>Humidity3pm</th>\n      <th>Pressure9am</th>\n      <th>Pressure3pm</th>\n      <th>Cloud9am</th>\n      <th>Cloud3pm</th>\n      <th>Temp9am</th>\n      <th>Temp3pm</th>\n      <th>RainToday</th>\n      <th>RainTomorrow</th>\n    </tr>\n  </thead>\n  <tbody>\n    <tr>\n      <th>0</th>\n      <td>2/1/2008</td>\n      <td>19.5</td>\n      <td>22.4</td>\n      <td>15.6</td>\n      <td>6.2</td>\n      <td>0.0</td>\n      <td>W</td>\n      <td>41</td>\n      <td>S</td>\n      <td>SSW</td>\n      <td>...</td>\n      <td>92</td>\n      <td>84</td>\n      <td>1017.6</td>\n      <td>1017.4</td>\n      <td>8</td>\n      <td>8</td>\n      <td>20.7</td>\n      <td>20.9</td>\n      <td>Yes</td>\n      <td>Yes</td>\n    </tr>\n    <tr>\n      <th>1</th>\n      <td>2/2/2008</td>\n      <td>19.5</td>\n      <td>25.6</td>\n      <td>6.0</td>\n      <td>3.4</td>\n      <td>2.7</td>\n      <td>W</td>\n      <td>41</td>\n      <td>W</td>\n      <td>E</td>\n      <td>...</td>\n      <td>83</td>\n      <td>73</td>\n      <td>1017.9</td>\n      <td>1016.4</td>\n      <td>7</td>\n      <td>7</td>\n      <td>22.4</td>\n      <td>24.8</td>\n      <td>Yes</td>\n      <td>Yes</td>\n    </tr>\n    <tr>\n      <th>2</th>\n      <td>2/3/2008</td>\n      <td>21.6</td>\n      <td>24.5</td>\n      <td>6.6</td>\n      <td>2.4</td>\n      <td>0.1</td>\n      <td>W</td>\n      <td>41</td>\n      <td>ESE</td>\n      <td>ESE</td>\n      <td>...</td>\n      <td>88</td>\n      <td>86</td>\n      <td>1016.7</td>\n      <td>1015.6</td>\n      <td>7</td>\n      <td>8</td>\n      <td>23.5</td>\n      <td>23.0</td>\n      <td>Yes</td>\n      <td>Yes</td>\n    </tr>\n    <tr>\n      <th>3</th>\n      <td>2/4/2008</td>\n      <td>20.2</td>\n      <td>22.8</td>\n      <td>18.8</td>\n      <td>2.2</td>\n      <td>0.0</td>\n      <td>W</td>\n      <td>41</td>\n      <td>NNE</td>\n      <td>E</td>\n      <td>...</td>\n      <td>83</td>\n      <td>90</td>\n      <td>1014.2</td>\n      <td>1011.8</td>\n      <td>8</td>\n      <td>8</td>\n      <td>21.4</td>\n      <td>20.9</td>\n      <td>Yes</td>\n      <td>Yes</td>\n    </tr>\n    <tr>\n      <th>4</th>\n      <td>2/5/2008</td>\n      <td>19.7</td>\n      <td>25.7</td>\n      <td>77.4</td>\n      <td>4.8</td>\n      <td>0.0</td>\n      <td>W</td>\n      <td>41</td>\n      <td>NNE</td>\n      <td>W</td>\n      <td>...</td>\n      <td>88</td>\n      <td>74</td>\n      <td>1008.3</td>\n      <td>1004.8</td>\n      <td>8</td>\n      <td>8</td>\n      <td>22.5</td>\n      <td>25.5</td>\n      <td>Yes</td>\n      <td>Yes</td>\n    </tr>\n  </tbody>\n</table>\n<p>5 rows × 22 columns</p>\n</div>"
          },
          "metadata": {}
        }
      ]
    },
    {
      "cell_type": "markdown",
      "source": "### Data Preprocessing\n",
      "metadata": {}
    },
    {
      "cell_type": "markdown",
      "source": "#### One Hot Encoding\n",
      "metadata": {}
    },
    {
      "cell_type": "markdown",
      "source": "First, we need to perform one hot encoding to convert categorical variables to binary variables.\n",
      "metadata": {}
    },
    {
      "cell_type": "code",
      "source": "df_sydney_processed = pd.get_dummies(data=df, columns=['RainToday', 'WindGustDir', 'WindDir9am', 'WindDir3pm'])\npd.options.display.max_columns = None\n\ndf_sydney_processed",
      "metadata": {
        "trusted": true
      },
      "execution_count": 9,
      "outputs": [
        {
          "execution_count": 9,
          "output_type": "execute_result",
          "data": {
            "text/plain": "           Date  MinTemp  MaxTemp  Rainfall  Evaporation  Sunshine  \\\n0      2/1/2008     19.5     22.4      15.6          6.2       0.0   \n1      2/2/2008     19.5     25.6       6.0          3.4       2.7   \n2      2/3/2008     21.6     24.5       6.6          2.4       0.1   \n3      2/4/2008     20.2     22.8      18.8          2.2       0.0   \n4      2/5/2008     19.7     25.7      77.4          4.8       0.0   \n...         ...      ...      ...       ...          ...       ...   \n3266  6/21/2017      8.6     19.6       0.0          2.0       7.8   \n3267  6/22/2017      9.3     19.2       0.0          2.0       9.2   \n3268  6/23/2017      9.4     17.7       0.0          2.4       2.7   \n3269  6/24/2017     10.1     19.3       0.0          1.4       9.3   \n3270  6/25/2017      7.6     19.3       0.0          3.4       9.4   \n\n      WindGustSpeed  WindSpeed9am  WindSpeed3pm  Humidity9am  Humidity3pm  \\\n0                41            17            20           92           84   \n1                41             9            13           83           73   \n2                41            17             2           88           86   \n3                41            22            20           83           90   \n4                41            11             6           88           74   \n...             ...           ...           ...          ...          ...   \n3266             37            22            20           73           52   \n3267             30            20             7           78           53   \n3268             24            15            13           85           56   \n3269             43            17            19           56           35   \n3270             35            13            13           73           32   \n\n      Pressure9am  Pressure3pm  Cloud9am  Cloud3pm  Temp9am  Temp3pm  \\\n0          1017.6       1017.4         8         8     20.7     20.9   \n1          1017.9       1016.4         7         7     22.4     24.8   \n2          1016.7       1015.6         7         8     23.5     23.0   \n3          1014.2       1011.8         8         8     21.4     20.9   \n4          1008.3       1004.8         8         8     22.5     25.5   \n...           ...          ...       ...       ...      ...      ...   \n3266       1025.9       1025.3         2         2     10.5     17.9   \n3267       1028.5       1024.6         2         2     11.0     18.7   \n3268       1020.8       1015.0         6         6     10.2     17.3   \n3269       1017.3       1015.1         5         2     12.4     19.0   \n3270       1018.6       1015.4         1         1      9.4     18.8   \n\n     RainTomorrow  RainToday_No  RainToday_Yes  WindGustDir_E  \\\n0             Yes             0              1              0   \n1             Yes             0              1              0   \n2             Yes             0              1              0   \n3             Yes             0              1              0   \n4             Yes             0              1              0   \n...           ...           ...            ...            ...   \n3266           No             1              0              0   \n3267           No             1              0              0   \n3268           No             1              0              0   \n3269           No             1              0              0   \n3270           No             1              0              0   \n\n      WindGustDir_ENE  WindGustDir_ESE  WindGustDir_N  WindGustDir_NE  \\\n0                   0                0              0               0   \n1                   0                0              0               0   \n2                   0                0              0               0   \n3                   0                0              0               0   \n4                   0                0              0               0   \n...               ...              ...            ...             ...   \n3266                0                0              0               0   \n3267                0                0              0               0   \n3268                0                0              0               0   \n3269                0                0              0               0   \n3270                0                0              0               0   \n\n      WindGustDir_NNE  WindGustDir_NNW  WindGustDir_NW  WindGustDir_S  \\\n0                   0                0               0              0   \n1                   0                0               0              0   \n2                   0                0               0              0   \n3                   0                0               0              0   \n4                   0                0               0              0   \n...               ...              ...             ...            ...   \n3266                0                0               0              0   \n3267                0                0               0              0   \n3268                0                0               0              0   \n3269                0                0               0              0   \n3270                0                0               0              0   \n\n      WindGustDir_SE  WindGustDir_SSE  WindGustDir_SSW  WindGustDir_SW  \\\n0                  0                0                0               0   \n1                  0                0                0               0   \n2                  0                0                0               0   \n3                  0                0                0               0   \n4                  0                0                0               0   \n...              ...              ...              ...             ...   \n3266               0                1                0               0   \n3267               0                0                0               0   \n3268               0                0                0               0   \n3269               0                0                0               0   \n3270               0                0                0               0   \n\n      WindGustDir_W  WindGustDir_WNW  WindGustDir_WSW  WindDir9am_E  \\\n0                 1                0                0             0   \n1                 1                0                0             0   \n2                 1                0                0             0   \n3                 1                0                0             0   \n4                 1                0                0             0   \n...             ...              ...              ...           ...   \n3266              0                0                0             0   \n3267              1                0                0             0   \n3268              1                0                0             0   \n3269              1                0                0             0   \n3270              1                0                0             0   \n\n      WindDir9am_ENE  WindDir9am_ESE  WindDir9am_N  WindDir9am_NE  \\\n0                  0               0             0              0   \n1                  0               0             0              0   \n2                  0               1             0              0   \n3                  0               0             0              0   \n4                  0               0             0              0   \n...              ...             ...           ...            ...   \n3266               0               0             0              0   \n3267               0               0             0              0   \n3268               0               0             0              0   \n3269               0               0             0              0   \n3270               0               0             0              0   \n\n      WindDir9am_NNE  WindDir9am_NNW  WindDir9am_NW  WindDir9am_S  \\\n0                  0               0              0             1   \n1                  0               0              0             0   \n2                  0               0              0             0   \n3                  1               0              0             0   \n4                  1               0              0             0   \n...              ...             ...            ...           ...   \n3266               0               0              0             0   \n3267               0               0              0             0   \n3268               0               0              0             0   \n3269               0               0              0             0   \n3270               0               0              0             0   \n\n      WindDir9am_SE  WindDir9am_SSE  WindDir9am_SSW  WindDir9am_SW  \\\n0                 0               0               0              0   \n1                 0               0               0              0   \n2                 0               0               0              0   \n3                 0               0               0              0   \n4                 0               0               0              0   \n...             ...             ...             ...            ...   \n3266              0               0               0              0   \n3267              0               0               0              0   \n3268              0               0               0              0   \n3269              0               0               0              0   \n3270              0               0               0              0   \n\n      WindDir9am_W  WindDir9am_WNW  WindDir9am_WSW  WindDir3pm_E  \\\n0                0               0               0             0   \n1                1               0               0             1   \n2                0               0               0             0   \n3                0               0               0             1   \n4                0               0               0             0   \n...            ...             ...             ...           ...   \n3266             1               0               0             0   \n3267             1               0               0             0   \n3268             0               1               0             0   \n3269             1               0               0             0   \n3270             1               0               0             0   \n\n      WindDir3pm_ENE  WindDir3pm_ESE  WindDir3pm_N  WindDir3pm_NE  \\\n0                  0               0             0              0   \n1                  0               0             0              0   \n2                  0               1             0              0   \n3                  0               0             0              0   \n4                  0               0             0              0   \n...              ...             ...           ...            ...   \n3266               0               0             0              0   \n3267               0               1             0              0   \n3268               0               0             1              0   \n3269               0               0             0              0   \n3270               0               0             0              0   \n\n      WindDir3pm_NNE  WindDir3pm_NNW  WindDir3pm_NW  WindDir3pm_S  \\\n0                  0               0              0             0   \n1                  0               0              0             0   \n2                  0               0              0             0   \n3                  0               0              0             0   \n4                  0               0              0             0   \n...              ...             ...            ...           ...   \n3266               0               0              0             0   \n3267               0               0              0             0   \n3268               0               0              0             0   \n3269               0               0              0             0   \n3270               0               0              0             0   \n\n      WindDir3pm_SE  WindDir3pm_SSE  WindDir3pm_SSW  WindDir3pm_SW  \\\n0                 0               0               1              0   \n1                 0               0               0              0   \n2                 0               0               0              0   \n3                 0               0               0              0   \n4                 0               0               0              0   \n...             ...             ...             ...            ...   \n3266              0               1               0              0   \n3267              0               0               0              0   \n3268              0               0               0              0   \n3269              0               0               0              0   \n3270              0               0               0              0   \n\n      WindDir3pm_W  WindDir3pm_WNW  WindDir3pm_WSW  \n0                0               0               0  \n1                0               0               0  \n2                0               0               0  \n3                0               0               0  \n4                1               0               0  \n...            ...             ...             ...  \n3266             0               0               0  \n3267             0               0               0  \n3268             0               0               0  \n3269             1               0               0  \n3270             1               0               0  \n\n[3271 rows x 68 columns]",
            "text/html": "<div>\n<style scoped>\n    .dataframe tbody tr th:only-of-type {\n        vertical-align: middle;\n    }\n\n    .dataframe tbody tr th {\n        vertical-align: top;\n    }\n\n    .dataframe thead th {\n        text-align: right;\n    }\n</style>\n<table border=\"1\" class=\"dataframe\">\n  <thead>\n    <tr style=\"text-align: right;\">\n      <th></th>\n      <th>Date</th>\n      <th>MinTemp</th>\n      <th>MaxTemp</th>\n      <th>Rainfall</th>\n      <th>Evaporation</th>\n      <th>Sunshine</th>\n      <th>WindGustSpeed</th>\n      <th>WindSpeed9am</th>\n      <th>WindSpeed3pm</th>\n      <th>Humidity9am</th>\n      <th>Humidity3pm</th>\n      <th>Pressure9am</th>\n      <th>Pressure3pm</th>\n      <th>Cloud9am</th>\n      <th>Cloud3pm</th>\n      <th>Temp9am</th>\n      <th>Temp3pm</th>\n      <th>RainTomorrow</th>\n      <th>RainToday_No</th>\n      <th>RainToday_Yes</th>\n      <th>WindGustDir_E</th>\n      <th>WindGustDir_ENE</th>\n      <th>WindGustDir_ESE</th>\n      <th>WindGustDir_N</th>\n      <th>WindGustDir_NE</th>\n      <th>WindGustDir_NNE</th>\n      <th>WindGustDir_NNW</th>\n      <th>WindGustDir_NW</th>\n      <th>WindGustDir_S</th>\n      <th>WindGustDir_SE</th>\n      <th>WindGustDir_SSE</th>\n      <th>WindGustDir_SSW</th>\n      <th>WindGustDir_SW</th>\n      <th>WindGustDir_W</th>\n      <th>WindGustDir_WNW</th>\n      <th>WindGustDir_WSW</th>\n      <th>WindDir9am_E</th>\n      <th>WindDir9am_ENE</th>\n      <th>WindDir9am_ESE</th>\n      <th>WindDir9am_N</th>\n      <th>WindDir9am_NE</th>\n      <th>WindDir9am_NNE</th>\n      <th>WindDir9am_NNW</th>\n      <th>WindDir9am_NW</th>\n      <th>WindDir9am_S</th>\n      <th>WindDir9am_SE</th>\n      <th>WindDir9am_SSE</th>\n      <th>WindDir9am_SSW</th>\n      <th>WindDir9am_SW</th>\n      <th>WindDir9am_W</th>\n      <th>WindDir9am_WNW</th>\n      <th>WindDir9am_WSW</th>\n      <th>WindDir3pm_E</th>\n      <th>WindDir3pm_ENE</th>\n      <th>WindDir3pm_ESE</th>\n      <th>WindDir3pm_N</th>\n      <th>WindDir3pm_NE</th>\n      <th>WindDir3pm_NNE</th>\n      <th>WindDir3pm_NNW</th>\n      <th>WindDir3pm_NW</th>\n      <th>WindDir3pm_S</th>\n      <th>WindDir3pm_SE</th>\n      <th>WindDir3pm_SSE</th>\n      <th>WindDir3pm_SSW</th>\n      <th>WindDir3pm_SW</th>\n      <th>WindDir3pm_W</th>\n      <th>WindDir3pm_WNW</th>\n      <th>WindDir3pm_WSW</th>\n    </tr>\n  </thead>\n  <tbody>\n    <tr>\n      <th>0</th>\n      <td>2/1/2008</td>\n      <td>19.5</td>\n      <td>22.4</td>\n      <td>15.6</td>\n      <td>6.2</td>\n      <td>0.0</td>\n      <td>41</td>\n      <td>17</td>\n      <td>20</td>\n      <td>92</td>\n      <td>84</td>\n      <td>1017.6</td>\n      <td>1017.4</td>\n      <td>8</td>\n      <td>8</td>\n      <td>20.7</td>\n      <td>20.9</td>\n      <td>Yes</td>\n      <td>0</td>\n      <td>1</td>\n      <td>0</td>\n      <td>0</td>\n      <td>0</td>\n      <td>0</td>\n      <td>0</td>\n      <td>0</td>\n      <td>0</td>\n      <td>0</td>\n      <td>0</td>\n      <td>0</td>\n      <td>0</td>\n      <td>0</td>\n      <td>0</td>\n      <td>1</td>\n      <td>0</td>\n      <td>0</td>\n      <td>0</td>\n      <td>0</td>\n      <td>0</td>\n      <td>0</td>\n      <td>0</td>\n      <td>0</td>\n      <td>0</td>\n      <td>0</td>\n      <td>1</td>\n      <td>0</td>\n      <td>0</td>\n      <td>0</td>\n      <td>0</td>\n      <td>0</td>\n      <td>0</td>\n      <td>0</td>\n      <td>0</td>\n      <td>0</td>\n      <td>0</td>\n      <td>0</td>\n      <td>0</td>\n      <td>0</td>\n      <td>0</td>\n      <td>0</td>\n      <td>0</td>\n      <td>0</td>\n      <td>0</td>\n      <td>1</td>\n      <td>0</td>\n      <td>0</td>\n      <td>0</td>\n      <td>0</td>\n    </tr>\n    <tr>\n      <th>1</th>\n      <td>2/2/2008</td>\n      <td>19.5</td>\n      <td>25.6</td>\n      <td>6.0</td>\n      <td>3.4</td>\n      <td>2.7</td>\n      <td>41</td>\n      <td>9</td>\n      <td>13</td>\n      <td>83</td>\n      <td>73</td>\n      <td>1017.9</td>\n      <td>1016.4</td>\n      <td>7</td>\n      <td>7</td>\n      <td>22.4</td>\n      <td>24.8</td>\n      <td>Yes</td>\n      <td>0</td>\n      <td>1</td>\n      <td>0</td>\n      <td>0</td>\n      <td>0</td>\n      <td>0</td>\n      <td>0</td>\n      <td>0</td>\n      <td>0</td>\n      <td>0</td>\n      <td>0</td>\n      <td>0</td>\n      <td>0</td>\n      <td>0</td>\n      <td>0</td>\n      <td>1</td>\n      <td>0</td>\n      <td>0</td>\n      <td>0</td>\n      <td>0</td>\n      <td>0</td>\n      <td>0</td>\n      <td>0</td>\n      <td>0</td>\n      <td>0</td>\n      <td>0</td>\n      <td>0</td>\n      <td>0</td>\n      <td>0</td>\n      <td>0</td>\n      <td>0</td>\n      <td>1</td>\n      <td>0</td>\n      <td>0</td>\n      <td>1</td>\n      <td>0</td>\n      <td>0</td>\n      <td>0</td>\n      <td>0</td>\n      <td>0</td>\n      <td>0</td>\n      <td>0</td>\n      <td>0</td>\n      <td>0</td>\n      <td>0</td>\n      <td>0</td>\n      <td>0</td>\n      <td>0</td>\n      <td>0</td>\n      <td>0</td>\n    </tr>\n    <tr>\n      <th>2</th>\n      <td>2/3/2008</td>\n      <td>21.6</td>\n      <td>24.5</td>\n      <td>6.6</td>\n      <td>2.4</td>\n      <td>0.1</td>\n      <td>41</td>\n      <td>17</td>\n      <td>2</td>\n      <td>88</td>\n      <td>86</td>\n      <td>1016.7</td>\n      <td>1015.6</td>\n      <td>7</td>\n      <td>8</td>\n      <td>23.5</td>\n      <td>23.0</td>\n      <td>Yes</td>\n      <td>0</td>\n      <td>1</td>\n      <td>0</td>\n      <td>0</td>\n      <td>0</td>\n      <td>0</td>\n      <td>0</td>\n      <td>0</td>\n      <td>0</td>\n      <td>0</td>\n      <td>0</td>\n      <td>0</td>\n      <td>0</td>\n      <td>0</td>\n      <td>0</td>\n      <td>1</td>\n      <td>0</td>\n      <td>0</td>\n      <td>0</td>\n      <td>0</td>\n      <td>1</td>\n      <td>0</td>\n      <td>0</td>\n      <td>0</td>\n      <td>0</td>\n      <td>0</td>\n      <td>0</td>\n      <td>0</td>\n      <td>0</td>\n      <td>0</td>\n      <td>0</td>\n      <td>0</td>\n      <td>0</td>\n      <td>0</td>\n      <td>0</td>\n      <td>0</td>\n      <td>1</td>\n      <td>0</td>\n      <td>0</td>\n      <td>0</td>\n      <td>0</td>\n      <td>0</td>\n      <td>0</td>\n      <td>0</td>\n      <td>0</td>\n      <td>0</td>\n      <td>0</td>\n      <td>0</td>\n      <td>0</td>\n      <td>0</td>\n    </tr>\n    <tr>\n      <th>3</th>\n      <td>2/4/2008</td>\n      <td>20.2</td>\n      <td>22.8</td>\n      <td>18.8</td>\n      <td>2.2</td>\n      <td>0.0</td>\n      <td>41</td>\n      <td>22</td>\n      <td>20</td>\n      <td>83</td>\n      <td>90</td>\n      <td>1014.2</td>\n      <td>1011.8</td>\n      <td>8</td>\n      <td>8</td>\n      <td>21.4</td>\n      <td>20.9</td>\n      <td>Yes</td>\n      <td>0</td>\n      <td>1</td>\n      <td>0</td>\n      <td>0</td>\n      <td>0</td>\n      <td>0</td>\n      <td>0</td>\n      <td>0</td>\n      <td>0</td>\n      <td>0</td>\n      <td>0</td>\n      <td>0</td>\n      <td>0</td>\n      <td>0</td>\n      <td>0</td>\n      <td>1</td>\n      <td>0</td>\n      <td>0</td>\n      <td>0</td>\n      <td>0</td>\n      <td>0</td>\n      <td>0</td>\n      <td>0</td>\n      <td>1</td>\n      <td>0</td>\n      <td>0</td>\n      <td>0</td>\n      <td>0</td>\n      <td>0</td>\n      <td>0</td>\n      <td>0</td>\n      <td>0</td>\n      <td>0</td>\n      <td>0</td>\n      <td>1</td>\n      <td>0</td>\n      <td>0</td>\n      <td>0</td>\n      <td>0</td>\n      <td>0</td>\n      <td>0</td>\n      <td>0</td>\n      <td>0</td>\n      <td>0</td>\n      <td>0</td>\n      <td>0</td>\n      <td>0</td>\n      <td>0</td>\n      <td>0</td>\n      <td>0</td>\n    </tr>\n    <tr>\n      <th>4</th>\n      <td>2/5/2008</td>\n      <td>19.7</td>\n      <td>25.7</td>\n      <td>77.4</td>\n      <td>4.8</td>\n      <td>0.0</td>\n      <td>41</td>\n      <td>11</td>\n      <td>6</td>\n      <td>88</td>\n      <td>74</td>\n      <td>1008.3</td>\n      <td>1004.8</td>\n      <td>8</td>\n      <td>8</td>\n      <td>22.5</td>\n      <td>25.5</td>\n      <td>Yes</td>\n      <td>0</td>\n      <td>1</td>\n      <td>0</td>\n      <td>0</td>\n      <td>0</td>\n      <td>0</td>\n      <td>0</td>\n      <td>0</td>\n      <td>0</td>\n      <td>0</td>\n      <td>0</td>\n      <td>0</td>\n      <td>0</td>\n      <td>0</td>\n      <td>0</td>\n      <td>1</td>\n      <td>0</td>\n      <td>0</td>\n      <td>0</td>\n      <td>0</td>\n      <td>0</td>\n      <td>0</td>\n      <td>0</td>\n      <td>1</td>\n      <td>0</td>\n      <td>0</td>\n      <td>0</td>\n      <td>0</td>\n      <td>0</td>\n      <td>0</td>\n      <td>0</td>\n      <td>0</td>\n      <td>0</td>\n      <td>0</td>\n      <td>0</td>\n      <td>0</td>\n      <td>0</td>\n      <td>0</td>\n      <td>0</td>\n      <td>0</td>\n      <td>0</td>\n      <td>0</td>\n      <td>0</td>\n      <td>0</td>\n      <td>0</td>\n      <td>0</td>\n      <td>0</td>\n      <td>1</td>\n      <td>0</td>\n      <td>0</td>\n    </tr>\n    <tr>\n      <th>...</th>\n      <td>...</td>\n      <td>...</td>\n      <td>...</td>\n      <td>...</td>\n      <td>...</td>\n      <td>...</td>\n      <td>...</td>\n      <td>...</td>\n      <td>...</td>\n      <td>...</td>\n      <td>...</td>\n      <td>...</td>\n      <td>...</td>\n      <td>...</td>\n      <td>...</td>\n      <td>...</td>\n      <td>...</td>\n      <td>...</td>\n      <td>...</td>\n      <td>...</td>\n      <td>...</td>\n      <td>...</td>\n      <td>...</td>\n      <td>...</td>\n      <td>...</td>\n      <td>...</td>\n      <td>...</td>\n      <td>...</td>\n      <td>...</td>\n      <td>...</td>\n      <td>...</td>\n      <td>...</td>\n      <td>...</td>\n      <td>...</td>\n      <td>...</td>\n      <td>...</td>\n      <td>...</td>\n      <td>...</td>\n      <td>...</td>\n      <td>...</td>\n      <td>...</td>\n      <td>...</td>\n      <td>...</td>\n      <td>...</td>\n      <td>...</td>\n      <td>...</td>\n      <td>...</td>\n      <td>...</td>\n      <td>...</td>\n      <td>...</td>\n      <td>...</td>\n      <td>...</td>\n      <td>...</td>\n      <td>...</td>\n      <td>...</td>\n      <td>...</td>\n      <td>...</td>\n      <td>...</td>\n      <td>...</td>\n      <td>...</td>\n      <td>...</td>\n      <td>...</td>\n      <td>...</td>\n      <td>...</td>\n      <td>...</td>\n      <td>...</td>\n      <td>...</td>\n      <td>...</td>\n    </tr>\n    <tr>\n      <th>3266</th>\n      <td>6/21/2017</td>\n      <td>8.6</td>\n      <td>19.6</td>\n      <td>0.0</td>\n      <td>2.0</td>\n      <td>7.8</td>\n      <td>37</td>\n      <td>22</td>\n      <td>20</td>\n      <td>73</td>\n      <td>52</td>\n      <td>1025.9</td>\n      <td>1025.3</td>\n      <td>2</td>\n      <td>2</td>\n      <td>10.5</td>\n      <td>17.9</td>\n      <td>No</td>\n      <td>1</td>\n      <td>0</td>\n      <td>0</td>\n      <td>0</td>\n      <td>0</td>\n      <td>0</td>\n      <td>0</td>\n      <td>0</td>\n      <td>0</td>\n      <td>0</td>\n      <td>0</td>\n      <td>0</td>\n      <td>1</td>\n      <td>0</td>\n      <td>0</td>\n      <td>0</td>\n      <td>0</td>\n      <td>0</td>\n      <td>0</td>\n      <td>0</td>\n      <td>0</td>\n      <td>0</td>\n      <td>0</td>\n      <td>0</td>\n      <td>0</td>\n      <td>0</td>\n      <td>0</td>\n      <td>0</td>\n      <td>0</td>\n      <td>0</td>\n      <td>0</td>\n      <td>1</td>\n      <td>0</td>\n      <td>0</td>\n      <td>0</td>\n      <td>0</td>\n      <td>0</td>\n      <td>0</td>\n      <td>0</td>\n      <td>0</td>\n      <td>0</td>\n      <td>0</td>\n      <td>0</td>\n      <td>0</td>\n      <td>1</td>\n      <td>0</td>\n      <td>0</td>\n      <td>0</td>\n      <td>0</td>\n      <td>0</td>\n    </tr>\n    <tr>\n      <th>3267</th>\n      <td>6/22/2017</td>\n      <td>9.3</td>\n      <td>19.2</td>\n      <td>0.0</td>\n      <td>2.0</td>\n      <td>9.2</td>\n      <td>30</td>\n      <td>20</td>\n      <td>7</td>\n      <td>78</td>\n      <td>53</td>\n      <td>1028.5</td>\n      <td>1024.6</td>\n      <td>2</td>\n      <td>2</td>\n      <td>11.0</td>\n      <td>18.7</td>\n      <td>No</td>\n      <td>1</td>\n      <td>0</td>\n      <td>0</td>\n      <td>0</td>\n      <td>0</td>\n      <td>0</td>\n      <td>0</td>\n      <td>0</td>\n      <td>0</td>\n      <td>0</td>\n      <td>0</td>\n      <td>0</td>\n      <td>0</td>\n      <td>0</td>\n      <td>0</td>\n      <td>1</td>\n      <td>0</td>\n      <td>0</td>\n      <td>0</td>\n      <td>0</td>\n      <td>0</td>\n      <td>0</td>\n      <td>0</td>\n      <td>0</td>\n      <td>0</td>\n      <td>0</td>\n      <td>0</td>\n      <td>0</td>\n      <td>0</td>\n      <td>0</td>\n      <td>0</td>\n      <td>1</td>\n      <td>0</td>\n      <td>0</td>\n      <td>0</td>\n      <td>0</td>\n      <td>1</td>\n      <td>0</td>\n      <td>0</td>\n      <td>0</td>\n      <td>0</td>\n      <td>0</td>\n      <td>0</td>\n      <td>0</td>\n      <td>0</td>\n      <td>0</td>\n      <td>0</td>\n      <td>0</td>\n      <td>0</td>\n      <td>0</td>\n    </tr>\n    <tr>\n      <th>3268</th>\n      <td>6/23/2017</td>\n      <td>9.4</td>\n      <td>17.7</td>\n      <td>0.0</td>\n      <td>2.4</td>\n      <td>2.7</td>\n      <td>24</td>\n      <td>15</td>\n      <td>13</td>\n      <td>85</td>\n      <td>56</td>\n      <td>1020.8</td>\n      <td>1015.0</td>\n      <td>6</td>\n      <td>6</td>\n      <td>10.2</td>\n      <td>17.3</td>\n      <td>No</td>\n      <td>1</td>\n      <td>0</td>\n      <td>0</td>\n      <td>0</td>\n      <td>0</td>\n      <td>0</td>\n      <td>0</td>\n      <td>0</td>\n      <td>0</td>\n      <td>0</td>\n      <td>0</td>\n      <td>0</td>\n      <td>0</td>\n      <td>0</td>\n      <td>0</td>\n      <td>1</td>\n      <td>0</td>\n      <td>0</td>\n      <td>0</td>\n      <td>0</td>\n      <td>0</td>\n      <td>0</td>\n      <td>0</td>\n      <td>0</td>\n      <td>0</td>\n      <td>0</td>\n      <td>0</td>\n      <td>0</td>\n      <td>0</td>\n      <td>0</td>\n      <td>0</td>\n      <td>0</td>\n      <td>1</td>\n      <td>0</td>\n      <td>0</td>\n      <td>0</td>\n      <td>0</td>\n      <td>1</td>\n      <td>0</td>\n      <td>0</td>\n      <td>0</td>\n      <td>0</td>\n      <td>0</td>\n      <td>0</td>\n      <td>0</td>\n      <td>0</td>\n      <td>0</td>\n      <td>0</td>\n      <td>0</td>\n      <td>0</td>\n    </tr>\n    <tr>\n      <th>3269</th>\n      <td>6/24/2017</td>\n      <td>10.1</td>\n      <td>19.3</td>\n      <td>0.0</td>\n      <td>1.4</td>\n      <td>9.3</td>\n      <td>43</td>\n      <td>17</td>\n      <td>19</td>\n      <td>56</td>\n      <td>35</td>\n      <td>1017.3</td>\n      <td>1015.1</td>\n      <td>5</td>\n      <td>2</td>\n      <td>12.4</td>\n      <td>19.0</td>\n      <td>No</td>\n      <td>1</td>\n      <td>0</td>\n      <td>0</td>\n      <td>0</td>\n      <td>0</td>\n      <td>0</td>\n      <td>0</td>\n      <td>0</td>\n      <td>0</td>\n      <td>0</td>\n      <td>0</td>\n      <td>0</td>\n      <td>0</td>\n      <td>0</td>\n      <td>0</td>\n      <td>1</td>\n      <td>0</td>\n      <td>0</td>\n      <td>0</td>\n      <td>0</td>\n      <td>0</td>\n      <td>0</td>\n      <td>0</td>\n      <td>0</td>\n      <td>0</td>\n      <td>0</td>\n      <td>0</td>\n      <td>0</td>\n      <td>0</td>\n      <td>0</td>\n      <td>0</td>\n      <td>1</td>\n      <td>0</td>\n      <td>0</td>\n      <td>0</td>\n      <td>0</td>\n      <td>0</td>\n      <td>0</td>\n      <td>0</td>\n      <td>0</td>\n      <td>0</td>\n      <td>0</td>\n      <td>0</td>\n      <td>0</td>\n      <td>0</td>\n      <td>0</td>\n      <td>0</td>\n      <td>1</td>\n      <td>0</td>\n      <td>0</td>\n    </tr>\n    <tr>\n      <th>3270</th>\n      <td>6/25/2017</td>\n      <td>7.6</td>\n      <td>19.3</td>\n      <td>0.0</td>\n      <td>3.4</td>\n      <td>9.4</td>\n      <td>35</td>\n      <td>13</td>\n      <td>13</td>\n      <td>73</td>\n      <td>32</td>\n      <td>1018.6</td>\n      <td>1015.4</td>\n      <td>1</td>\n      <td>1</td>\n      <td>9.4</td>\n      <td>18.8</td>\n      <td>No</td>\n      <td>1</td>\n      <td>0</td>\n      <td>0</td>\n      <td>0</td>\n      <td>0</td>\n      <td>0</td>\n      <td>0</td>\n      <td>0</td>\n      <td>0</td>\n      <td>0</td>\n      <td>0</td>\n      <td>0</td>\n      <td>0</td>\n      <td>0</td>\n      <td>0</td>\n      <td>1</td>\n      <td>0</td>\n      <td>0</td>\n      <td>0</td>\n      <td>0</td>\n      <td>0</td>\n      <td>0</td>\n      <td>0</td>\n      <td>0</td>\n      <td>0</td>\n      <td>0</td>\n      <td>0</td>\n      <td>0</td>\n      <td>0</td>\n      <td>0</td>\n      <td>0</td>\n      <td>1</td>\n      <td>0</td>\n      <td>0</td>\n      <td>0</td>\n      <td>0</td>\n      <td>0</td>\n      <td>0</td>\n      <td>0</td>\n      <td>0</td>\n      <td>0</td>\n      <td>0</td>\n      <td>0</td>\n      <td>0</td>\n      <td>0</td>\n      <td>0</td>\n      <td>0</td>\n      <td>1</td>\n      <td>0</td>\n      <td>0</td>\n    </tr>\n  </tbody>\n</table>\n<p>3271 rows × 68 columns</p>\n</div>"
          },
          "metadata": {}
        }
      ]
    },
    {
      "cell_type": "markdown",
      "source": "Next, we replace the values of the 'RainTomorrow' column changing them from a categorical column to a binary column. We do not use the `get_dummies` method because we would end up with two columns for 'RainTomorrow' and we do not want, since 'RainTomorrow' is our target.\n",
      "metadata": {}
    },
    {
      "cell_type": "code",
      "source": "df_sydney_processed.replace(['No', 'Yes'], [0,1], inplace=True)\ndf_sydney_processed",
      "metadata": {
        "trusted": true
      },
      "execution_count": 10,
      "outputs": [
        {
          "execution_count": 10,
          "output_type": "execute_result",
          "data": {
            "text/plain": "           Date  MinTemp  MaxTemp  Rainfall  Evaporation  Sunshine  \\\n0      2/1/2008     19.5     22.4      15.6          6.2       0.0   \n1      2/2/2008     19.5     25.6       6.0          3.4       2.7   \n2      2/3/2008     21.6     24.5       6.6          2.4       0.1   \n3      2/4/2008     20.2     22.8      18.8          2.2       0.0   \n4      2/5/2008     19.7     25.7      77.4          4.8       0.0   \n...         ...      ...      ...       ...          ...       ...   \n3266  6/21/2017      8.6     19.6       0.0          2.0       7.8   \n3267  6/22/2017      9.3     19.2       0.0          2.0       9.2   \n3268  6/23/2017      9.4     17.7       0.0          2.4       2.7   \n3269  6/24/2017     10.1     19.3       0.0          1.4       9.3   \n3270  6/25/2017      7.6     19.3       0.0          3.4       9.4   \n\n      WindGustSpeed  WindSpeed9am  WindSpeed3pm  Humidity9am  Humidity3pm  \\\n0                41            17            20           92           84   \n1                41             9            13           83           73   \n2                41            17             2           88           86   \n3                41            22            20           83           90   \n4                41            11             6           88           74   \n...             ...           ...           ...          ...          ...   \n3266             37            22            20           73           52   \n3267             30            20             7           78           53   \n3268             24            15            13           85           56   \n3269             43            17            19           56           35   \n3270             35            13            13           73           32   \n\n      Pressure9am  Pressure3pm  Cloud9am  Cloud3pm  Temp9am  Temp3pm  \\\n0          1017.6       1017.4         8         8     20.7     20.9   \n1          1017.9       1016.4         7         7     22.4     24.8   \n2          1016.7       1015.6         7         8     23.5     23.0   \n3          1014.2       1011.8         8         8     21.4     20.9   \n4          1008.3       1004.8         8         8     22.5     25.5   \n...           ...          ...       ...       ...      ...      ...   \n3266       1025.9       1025.3         2         2     10.5     17.9   \n3267       1028.5       1024.6         2         2     11.0     18.7   \n3268       1020.8       1015.0         6         6     10.2     17.3   \n3269       1017.3       1015.1         5         2     12.4     19.0   \n3270       1018.6       1015.4         1         1      9.4     18.8   \n\n      RainTomorrow  RainToday_No  RainToday_Yes  WindGustDir_E  \\\n0                1             0              1              0   \n1                1             0              1              0   \n2                1             0              1              0   \n3                1             0              1              0   \n4                1             0              1              0   \n...            ...           ...            ...            ...   \n3266             0             1              0              0   \n3267             0             1              0              0   \n3268             0             1              0              0   \n3269             0             1              0              0   \n3270             0             1              0              0   \n\n      WindGustDir_ENE  WindGustDir_ESE  WindGustDir_N  WindGustDir_NE  \\\n0                   0                0              0               0   \n1                   0                0              0               0   \n2                   0                0              0               0   \n3                   0                0              0               0   \n4                   0                0              0               0   \n...               ...              ...            ...             ...   \n3266                0                0              0               0   \n3267                0                0              0               0   \n3268                0                0              0               0   \n3269                0                0              0               0   \n3270                0                0              0               0   \n\n      WindGustDir_NNE  WindGustDir_NNW  WindGustDir_NW  WindGustDir_S  \\\n0                   0                0               0              0   \n1                   0                0               0              0   \n2                   0                0               0              0   \n3                   0                0               0              0   \n4                   0                0               0              0   \n...               ...              ...             ...            ...   \n3266                0                0               0              0   \n3267                0                0               0              0   \n3268                0                0               0              0   \n3269                0                0               0              0   \n3270                0                0               0              0   \n\n      WindGustDir_SE  WindGustDir_SSE  WindGustDir_SSW  WindGustDir_SW  \\\n0                  0                0                0               0   \n1                  0                0                0               0   \n2                  0                0                0               0   \n3                  0                0                0               0   \n4                  0                0                0               0   \n...              ...              ...              ...             ...   \n3266               0                1                0               0   \n3267               0                0                0               0   \n3268               0                0                0               0   \n3269               0                0                0               0   \n3270               0                0                0               0   \n\n      WindGustDir_W  WindGustDir_WNW  WindGustDir_WSW  WindDir9am_E  \\\n0                 1                0                0             0   \n1                 1                0                0             0   \n2                 1                0                0             0   \n3                 1                0                0             0   \n4                 1                0                0             0   \n...             ...              ...              ...           ...   \n3266              0                0                0             0   \n3267              1                0                0             0   \n3268              1                0                0             0   \n3269              1                0                0             0   \n3270              1                0                0             0   \n\n      WindDir9am_ENE  WindDir9am_ESE  WindDir9am_N  WindDir9am_NE  \\\n0                  0               0             0              0   \n1                  0               0             0              0   \n2                  0               1             0              0   \n3                  0               0             0              0   \n4                  0               0             0              0   \n...              ...             ...           ...            ...   \n3266               0               0             0              0   \n3267               0               0             0              0   \n3268               0               0             0              0   \n3269               0               0             0              0   \n3270               0               0             0              0   \n\n      WindDir9am_NNE  WindDir9am_NNW  WindDir9am_NW  WindDir9am_S  \\\n0                  0               0              0             1   \n1                  0               0              0             0   \n2                  0               0              0             0   \n3                  1               0              0             0   \n4                  1               0              0             0   \n...              ...             ...            ...           ...   \n3266               0               0              0             0   \n3267               0               0              0             0   \n3268               0               0              0             0   \n3269               0               0              0             0   \n3270               0               0              0             0   \n\n      WindDir9am_SE  WindDir9am_SSE  WindDir9am_SSW  WindDir9am_SW  \\\n0                 0               0               0              0   \n1                 0               0               0              0   \n2                 0               0               0              0   \n3                 0               0               0              0   \n4                 0               0               0              0   \n...             ...             ...             ...            ...   \n3266              0               0               0              0   \n3267              0               0               0              0   \n3268              0               0               0              0   \n3269              0               0               0              0   \n3270              0               0               0              0   \n\n      WindDir9am_W  WindDir9am_WNW  WindDir9am_WSW  WindDir3pm_E  \\\n0                0               0               0             0   \n1                1               0               0             1   \n2                0               0               0             0   \n3                0               0               0             1   \n4                0               0               0             0   \n...            ...             ...             ...           ...   \n3266             1               0               0             0   \n3267             1               0               0             0   \n3268             0               1               0             0   \n3269             1               0               0             0   \n3270             1               0               0             0   \n\n      WindDir3pm_ENE  WindDir3pm_ESE  WindDir3pm_N  WindDir3pm_NE  \\\n0                  0               0             0              0   \n1                  0               0             0              0   \n2                  0               1             0              0   \n3                  0               0             0              0   \n4                  0               0             0              0   \n...              ...             ...           ...            ...   \n3266               0               0             0              0   \n3267               0               1             0              0   \n3268               0               0             1              0   \n3269               0               0             0              0   \n3270               0               0             0              0   \n\n      WindDir3pm_NNE  WindDir3pm_NNW  WindDir3pm_NW  WindDir3pm_S  \\\n0                  0               0              0             0   \n1                  0               0              0             0   \n2                  0               0              0             0   \n3                  0               0              0             0   \n4                  0               0              0             0   \n...              ...             ...            ...           ...   \n3266               0               0              0             0   \n3267               0               0              0             0   \n3268               0               0              0             0   \n3269               0               0              0             0   \n3270               0               0              0             0   \n\n      WindDir3pm_SE  WindDir3pm_SSE  WindDir3pm_SSW  WindDir3pm_SW  \\\n0                 0               0               1              0   \n1                 0               0               0              0   \n2                 0               0               0              0   \n3                 0               0               0              0   \n4                 0               0               0              0   \n...             ...             ...             ...            ...   \n3266              0               1               0              0   \n3267              0               0               0              0   \n3268              0               0               0              0   \n3269              0               0               0              0   \n3270              0               0               0              0   \n\n      WindDir3pm_W  WindDir3pm_WNW  WindDir3pm_WSW  \n0                0               0               0  \n1                0               0               0  \n2                0               0               0  \n3                0               0               0  \n4                1               0               0  \n...            ...             ...             ...  \n3266             0               0               0  \n3267             0               0               0  \n3268             0               0               0  \n3269             1               0               0  \n3270             1               0               0  \n\n[3271 rows x 68 columns]",
            "text/html": "<div>\n<style scoped>\n    .dataframe tbody tr th:only-of-type {\n        vertical-align: middle;\n    }\n\n    .dataframe tbody tr th {\n        vertical-align: top;\n    }\n\n    .dataframe thead th {\n        text-align: right;\n    }\n</style>\n<table border=\"1\" class=\"dataframe\">\n  <thead>\n    <tr style=\"text-align: right;\">\n      <th></th>\n      <th>Date</th>\n      <th>MinTemp</th>\n      <th>MaxTemp</th>\n      <th>Rainfall</th>\n      <th>Evaporation</th>\n      <th>Sunshine</th>\n      <th>WindGustSpeed</th>\n      <th>WindSpeed9am</th>\n      <th>WindSpeed3pm</th>\n      <th>Humidity9am</th>\n      <th>Humidity3pm</th>\n      <th>Pressure9am</th>\n      <th>Pressure3pm</th>\n      <th>Cloud9am</th>\n      <th>Cloud3pm</th>\n      <th>Temp9am</th>\n      <th>Temp3pm</th>\n      <th>RainTomorrow</th>\n      <th>RainToday_No</th>\n      <th>RainToday_Yes</th>\n      <th>WindGustDir_E</th>\n      <th>WindGustDir_ENE</th>\n      <th>WindGustDir_ESE</th>\n      <th>WindGustDir_N</th>\n      <th>WindGustDir_NE</th>\n      <th>WindGustDir_NNE</th>\n      <th>WindGustDir_NNW</th>\n      <th>WindGustDir_NW</th>\n      <th>WindGustDir_S</th>\n      <th>WindGustDir_SE</th>\n      <th>WindGustDir_SSE</th>\n      <th>WindGustDir_SSW</th>\n      <th>WindGustDir_SW</th>\n      <th>WindGustDir_W</th>\n      <th>WindGustDir_WNW</th>\n      <th>WindGustDir_WSW</th>\n      <th>WindDir9am_E</th>\n      <th>WindDir9am_ENE</th>\n      <th>WindDir9am_ESE</th>\n      <th>WindDir9am_N</th>\n      <th>WindDir9am_NE</th>\n      <th>WindDir9am_NNE</th>\n      <th>WindDir9am_NNW</th>\n      <th>WindDir9am_NW</th>\n      <th>WindDir9am_S</th>\n      <th>WindDir9am_SE</th>\n      <th>WindDir9am_SSE</th>\n      <th>WindDir9am_SSW</th>\n      <th>WindDir9am_SW</th>\n      <th>WindDir9am_W</th>\n      <th>WindDir9am_WNW</th>\n      <th>WindDir9am_WSW</th>\n      <th>WindDir3pm_E</th>\n      <th>WindDir3pm_ENE</th>\n      <th>WindDir3pm_ESE</th>\n      <th>WindDir3pm_N</th>\n      <th>WindDir3pm_NE</th>\n      <th>WindDir3pm_NNE</th>\n      <th>WindDir3pm_NNW</th>\n      <th>WindDir3pm_NW</th>\n      <th>WindDir3pm_S</th>\n      <th>WindDir3pm_SE</th>\n      <th>WindDir3pm_SSE</th>\n      <th>WindDir3pm_SSW</th>\n      <th>WindDir3pm_SW</th>\n      <th>WindDir3pm_W</th>\n      <th>WindDir3pm_WNW</th>\n      <th>WindDir3pm_WSW</th>\n    </tr>\n  </thead>\n  <tbody>\n    <tr>\n      <th>0</th>\n      <td>2/1/2008</td>\n      <td>19.5</td>\n      <td>22.4</td>\n      <td>15.6</td>\n      <td>6.2</td>\n      <td>0.0</td>\n      <td>41</td>\n      <td>17</td>\n      <td>20</td>\n      <td>92</td>\n      <td>84</td>\n      <td>1017.6</td>\n      <td>1017.4</td>\n      <td>8</td>\n      <td>8</td>\n      <td>20.7</td>\n      <td>20.9</td>\n      <td>1</td>\n      <td>0</td>\n      <td>1</td>\n      <td>0</td>\n      <td>0</td>\n      <td>0</td>\n      <td>0</td>\n      <td>0</td>\n      <td>0</td>\n      <td>0</td>\n      <td>0</td>\n      <td>0</td>\n      <td>0</td>\n      <td>0</td>\n      <td>0</td>\n      <td>0</td>\n      <td>1</td>\n      <td>0</td>\n      <td>0</td>\n      <td>0</td>\n      <td>0</td>\n      <td>0</td>\n      <td>0</td>\n      <td>0</td>\n      <td>0</td>\n      <td>0</td>\n      <td>0</td>\n      <td>1</td>\n      <td>0</td>\n      <td>0</td>\n      <td>0</td>\n      <td>0</td>\n      <td>0</td>\n      <td>0</td>\n      <td>0</td>\n      <td>0</td>\n      <td>0</td>\n      <td>0</td>\n      <td>0</td>\n      <td>0</td>\n      <td>0</td>\n      <td>0</td>\n      <td>0</td>\n      <td>0</td>\n      <td>0</td>\n      <td>0</td>\n      <td>1</td>\n      <td>0</td>\n      <td>0</td>\n      <td>0</td>\n      <td>0</td>\n    </tr>\n    <tr>\n      <th>1</th>\n      <td>2/2/2008</td>\n      <td>19.5</td>\n      <td>25.6</td>\n      <td>6.0</td>\n      <td>3.4</td>\n      <td>2.7</td>\n      <td>41</td>\n      <td>9</td>\n      <td>13</td>\n      <td>83</td>\n      <td>73</td>\n      <td>1017.9</td>\n      <td>1016.4</td>\n      <td>7</td>\n      <td>7</td>\n      <td>22.4</td>\n      <td>24.8</td>\n      <td>1</td>\n      <td>0</td>\n      <td>1</td>\n      <td>0</td>\n      <td>0</td>\n      <td>0</td>\n      <td>0</td>\n      <td>0</td>\n      <td>0</td>\n      <td>0</td>\n      <td>0</td>\n      <td>0</td>\n      <td>0</td>\n      <td>0</td>\n      <td>0</td>\n      <td>0</td>\n      <td>1</td>\n      <td>0</td>\n      <td>0</td>\n      <td>0</td>\n      <td>0</td>\n      <td>0</td>\n      <td>0</td>\n      <td>0</td>\n      <td>0</td>\n      <td>0</td>\n      <td>0</td>\n      <td>0</td>\n      <td>0</td>\n      <td>0</td>\n      <td>0</td>\n      <td>0</td>\n      <td>1</td>\n      <td>0</td>\n      <td>0</td>\n      <td>1</td>\n      <td>0</td>\n      <td>0</td>\n      <td>0</td>\n      <td>0</td>\n      <td>0</td>\n      <td>0</td>\n      <td>0</td>\n      <td>0</td>\n      <td>0</td>\n      <td>0</td>\n      <td>0</td>\n      <td>0</td>\n      <td>0</td>\n      <td>0</td>\n      <td>0</td>\n    </tr>\n    <tr>\n      <th>2</th>\n      <td>2/3/2008</td>\n      <td>21.6</td>\n      <td>24.5</td>\n      <td>6.6</td>\n      <td>2.4</td>\n      <td>0.1</td>\n      <td>41</td>\n      <td>17</td>\n      <td>2</td>\n      <td>88</td>\n      <td>86</td>\n      <td>1016.7</td>\n      <td>1015.6</td>\n      <td>7</td>\n      <td>8</td>\n      <td>23.5</td>\n      <td>23.0</td>\n      <td>1</td>\n      <td>0</td>\n      <td>1</td>\n      <td>0</td>\n      <td>0</td>\n      <td>0</td>\n      <td>0</td>\n      <td>0</td>\n      <td>0</td>\n      <td>0</td>\n      <td>0</td>\n      <td>0</td>\n      <td>0</td>\n      <td>0</td>\n      <td>0</td>\n      <td>0</td>\n      <td>1</td>\n      <td>0</td>\n      <td>0</td>\n      <td>0</td>\n      <td>0</td>\n      <td>1</td>\n      <td>0</td>\n      <td>0</td>\n      <td>0</td>\n      <td>0</td>\n      <td>0</td>\n      <td>0</td>\n      <td>0</td>\n      <td>0</td>\n      <td>0</td>\n      <td>0</td>\n      <td>0</td>\n      <td>0</td>\n      <td>0</td>\n      <td>0</td>\n      <td>0</td>\n      <td>1</td>\n      <td>0</td>\n      <td>0</td>\n      <td>0</td>\n      <td>0</td>\n      <td>0</td>\n      <td>0</td>\n      <td>0</td>\n      <td>0</td>\n      <td>0</td>\n      <td>0</td>\n      <td>0</td>\n      <td>0</td>\n      <td>0</td>\n    </tr>\n    <tr>\n      <th>3</th>\n      <td>2/4/2008</td>\n      <td>20.2</td>\n      <td>22.8</td>\n      <td>18.8</td>\n      <td>2.2</td>\n      <td>0.0</td>\n      <td>41</td>\n      <td>22</td>\n      <td>20</td>\n      <td>83</td>\n      <td>90</td>\n      <td>1014.2</td>\n      <td>1011.8</td>\n      <td>8</td>\n      <td>8</td>\n      <td>21.4</td>\n      <td>20.9</td>\n      <td>1</td>\n      <td>0</td>\n      <td>1</td>\n      <td>0</td>\n      <td>0</td>\n      <td>0</td>\n      <td>0</td>\n      <td>0</td>\n      <td>0</td>\n      <td>0</td>\n      <td>0</td>\n      <td>0</td>\n      <td>0</td>\n      <td>0</td>\n      <td>0</td>\n      <td>0</td>\n      <td>1</td>\n      <td>0</td>\n      <td>0</td>\n      <td>0</td>\n      <td>0</td>\n      <td>0</td>\n      <td>0</td>\n      <td>0</td>\n      <td>1</td>\n      <td>0</td>\n      <td>0</td>\n      <td>0</td>\n      <td>0</td>\n      <td>0</td>\n      <td>0</td>\n      <td>0</td>\n      <td>0</td>\n      <td>0</td>\n      <td>0</td>\n      <td>1</td>\n      <td>0</td>\n      <td>0</td>\n      <td>0</td>\n      <td>0</td>\n      <td>0</td>\n      <td>0</td>\n      <td>0</td>\n      <td>0</td>\n      <td>0</td>\n      <td>0</td>\n      <td>0</td>\n      <td>0</td>\n      <td>0</td>\n      <td>0</td>\n      <td>0</td>\n    </tr>\n    <tr>\n      <th>4</th>\n      <td>2/5/2008</td>\n      <td>19.7</td>\n      <td>25.7</td>\n      <td>77.4</td>\n      <td>4.8</td>\n      <td>0.0</td>\n      <td>41</td>\n      <td>11</td>\n      <td>6</td>\n      <td>88</td>\n      <td>74</td>\n      <td>1008.3</td>\n      <td>1004.8</td>\n      <td>8</td>\n      <td>8</td>\n      <td>22.5</td>\n      <td>25.5</td>\n      <td>1</td>\n      <td>0</td>\n      <td>1</td>\n      <td>0</td>\n      <td>0</td>\n      <td>0</td>\n      <td>0</td>\n      <td>0</td>\n      <td>0</td>\n      <td>0</td>\n      <td>0</td>\n      <td>0</td>\n      <td>0</td>\n      <td>0</td>\n      <td>0</td>\n      <td>0</td>\n      <td>1</td>\n      <td>0</td>\n      <td>0</td>\n      <td>0</td>\n      <td>0</td>\n      <td>0</td>\n      <td>0</td>\n      <td>0</td>\n      <td>1</td>\n      <td>0</td>\n      <td>0</td>\n      <td>0</td>\n      <td>0</td>\n      <td>0</td>\n      <td>0</td>\n      <td>0</td>\n      <td>0</td>\n      <td>0</td>\n      <td>0</td>\n      <td>0</td>\n      <td>0</td>\n      <td>0</td>\n      <td>0</td>\n      <td>0</td>\n      <td>0</td>\n      <td>0</td>\n      <td>0</td>\n      <td>0</td>\n      <td>0</td>\n      <td>0</td>\n      <td>0</td>\n      <td>0</td>\n      <td>1</td>\n      <td>0</td>\n      <td>0</td>\n    </tr>\n    <tr>\n      <th>...</th>\n      <td>...</td>\n      <td>...</td>\n      <td>...</td>\n      <td>...</td>\n      <td>...</td>\n      <td>...</td>\n      <td>...</td>\n      <td>...</td>\n      <td>...</td>\n      <td>...</td>\n      <td>...</td>\n      <td>...</td>\n      <td>...</td>\n      <td>...</td>\n      <td>...</td>\n      <td>...</td>\n      <td>...</td>\n      <td>...</td>\n      <td>...</td>\n      <td>...</td>\n      <td>...</td>\n      <td>...</td>\n      <td>...</td>\n      <td>...</td>\n      <td>...</td>\n      <td>...</td>\n      <td>...</td>\n      <td>...</td>\n      <td>...</td>\n      <td>...</td>\n      <td>...</td>\n      <td>...</td>\n      <td>...</td>\n      <td>...</td>\n      <td>...</td>\n      <td>...</td>\n      <td>...</td>\n      <td>...</td>\n      <td>...</td>\n      <td>...</td>\n      <td>...</td>\n      <td>...</td>\n      <td>...</td>\n      <td>...</td>\n      <td>...</td>\n      <td>...</td>\n      <td>...</td>\n      <td>...</td>\n      <td>...</td>\n      <td>...</td>\n      <td>...</td>\n      <td>...</td>\n      <td>...</td>\n      <td>...</td>\n      <td>...</td>\n      <td>...</td>\n      <td>...</td>\n      <td>...</td>\n      <td>...</td>\n      <td>...</td>\n      <td>...</td>\n      <td>...</td>\n      <td>...</td>\n      <td>...</td>\n      <td>...</td>\n      <td>...</td>\n      <td>...</td>\n      <td>...</td>\n    </tr>\n    <tr>\n      <th>3266</th>\n      <td>6/21/2017</td>\n      <td>8.6</td>\n      <td>19.6</td>\n      <td>0.0</td>\n      <td>2.0</td>\n      <td>7.8</td>\n      <td>37</td>\n      <td>22</td>\n      <td>20</td>\n      <td>73</td>\n      <td>52</td>\n      <td>1025.9</td>\n      <td>1025.3</td>\n      <td>2</td>\n      <td>2</td>\n      <td>10.5</td>\n      <td>17.9</td>\n      <td>0</td>\n      <td>1</td>\n      <td>0</td>\n      <td>0</td>\n      <td>0</td>\n      <td>0</td>\n      <td>0</td>\n      <td>0</td>\n      <td>0</td>\n      <td>0</td>\n      <td>0</td>\n      <td>0</td>\n      <td>0</td>\n      <td>1</td>\n      <td>0</td>\n      <td>0</td>\n      <td>0</td>\n      <td>0</td>\n      <td>0</td>\n      <td>0</td>\n      <td>0</td>\n      <td>0</td>\n      <td>0</td>\n      <td>0</td>\n      <td>0</td>\n      <td>0</td>\n      <td>0</td>\n      <td>0</td>\n      <td>0</td>\n      <td>0</td>\n      <td>0</td>\n      <td>0</td>\n      <td>1</td>\n      <td>0</td>\n      <td>0</td>\n      <td>0</td>\n      <td>0</td>\n      <td>0</td>\n      <td>0</td>\n      <td>0</td>\n      <td>0</td>\n      <td>0</td>\n      <td>0</td>\n      <td>0</td>\n      <td>0</td>\n      <td>1</td>\n      <td>0</td>\n      <td>0</td>\n      <td>0</td>\n      <td>0</td>\n      <td>0</td>\n    </tr>\n    <tr>\n      <th>3267</th>\n      <td>6/22/2017</td>\n      <td>9.3</td>\n      <td>19.2</td>\n      <td>0.0</td>\n      <td>2.0</td>\n      <td>9.2</td>\n      <td>30</td>\n      <td>20</td>\n      <td>7</td>\n      <td>78</td>\n      <td>53</td>\n      <td>1028.5</td>\n      <td>1024.6</td>\n      <td>2</td>\n      <td>2</td>\n      <td>11.0</td>\n      <td>18.7</td>\n      <td>0</td>\n      <td>1</td>\n      <td>0</td>\n      <td>0</td>\n      <td>0</td>\n      <td>0</td>\n      <td>0</td>\n      <td>0</td>\n      <td>0</td>\n      <td>0</td>\n      <td>0</td>\n      <td>0</td>\n      <td>0</td>\n      <td>0</td>\n      <td>0</td>\n      <td>0</td>\n      <td>1</td>\n      <td>0</td>\n      <td>0</td>\n      <td>0</td>\n      <td>0</td>\n      <td>0</td>\n      <td>0</td>\n      <td>0</td>\n      <td>0</td>\n      <td>0</td>\n      <td>0</td>\n      <td>0</td>\n      <td>0</td>\n      <td>0</td>\n      <td>0</td>\n      <td>0</td>\n      <td>1</td>\n      <td>0</td>\n      <td>0</td>\n      <td>0</td>\n      <td>0</td>\n      <td>1</td>\n      <td>0</td>\n      <td>0</td>\n      <td>0</td>\n      <td>0</td>\n      <td>0</td>\n      <td>0</td>\n      <td>0</td>\n      <td>0</td>\n      <td>0</td>\n      <td>0</td>\n      <td>0</td>\n      <td>0</td>\n      <td>0</td>\n    </tr>\n    <tr>\n      <th>3268</th>\n      <td>6/23/2017</td>\n      <td>9.4</td>\n      <td>17.7</td>\n      <td>0.0</td>\n      <td>2.4</td>\n      <td>2.7</td>\n      <td>24</td>\n      <td>15</td>\n      <td>13</td>\n      <td>85</td>\n      <td>56</td>\n      <td>1020.8</td>\n      <td>1015.0</td>\n      <td>6</td>\n      <td>6</td>\n      <td>10.2</td>\n      <td>17.3</td>\n      <td>0</td>\n      <td>1</td>\n      <td>0</td>\n      <td>0</td>\n      <td>0</td>\n      <td>0</td>\n      <td>0</td>\n      <td>0</td>\n      <td>0</td>\n      <td>0</td>\n      <td>0</td>\n      <td>0</td>\n      <td>0</td>\n      <td>0</td>\n      <td>0</td>\n      <td>0</td>\n      <td>1</td>\n      <td>0</td>\n      <td>0</td>\n      <td>0</td>\n      <td>0</td>\n      <td>0</td>\n      <td>0</td>\n      <td>0</td>\n      <td>0</td>\n      <td>0</td>\n      <td>0</td>\n      <td>0</td>\n      <td>0</td>\n      <td>0</td>\n      <td>0</td>\n      <td>0</td>\n      <td>0</td>\n      <td>1</td>\n      <td>0</td>\n      <td>0</td>\n      <td>0</td>\n      <td>0</td>\n      <td>1</td>\n      <td>0</td>\n      <td>0</td>\n      <td>0</td>\n      <td>0</td>\n      <td>0</td>\n      <td>0</td>\n      <td>0</td>\n      <td>0</td>\n      <td>0</td>\n      <td>0</td>\n      <td>0</td>\n      <td>0</td>\n    </tr>\n    <tr>\n      <th>3269</th>\n      <td>6/24/2017</td>\n      <td>10.1</td>\n      <td>19.3</td>\n      <td>0.0</td>\n      <td>1.4</td>\n      <td>9.3</td>\n      <td>43</td>\n      <td>17</td>\n      <td>19</td>\n      <td>56</td>\n      <td>35</td>\n      <td>1017.3</td>\n      <td>1015.1</td>\n      <td>5</td>\n      <td>2</td>\n      <td>12.4</td>\n      <td>19.0</td>\n      <td>0</td>\n      <td>1</td>\n      <td>0</td>\n      <td>0</td>\n      <td>0</td>\n      <td>0</td>\n      <td>0</td>\n      <td>0</td>\n      <td>0</td>\n      <td>0</td>\n      <td>0</td>\n      <td>0</td>\n      <td>0</td>\n      <td>0</td>\n      <td>0</td>\n      <td>0</td>\n      <td>1</td>\n      <td>0</td>\n      <td>0</td>\n      <td>0</td>\n      <td>0</td>\n      <td>0</td>\n      <td>0</td>\n      <td>0</td>\n      <td>0</td>\n      <td>0</td>\n      <td>0</td>\n      <td>0</td>\n      <td>0</td>\n      <td>0</td>\n      <td>0</td>\n      <td>0</td>\n      <td>1</td>\n      <td>0</td>\n      <td>0</td>\n      <td>0</td>\n      <td>0</td>\n      <td>0</td>\n      <td>0</td>\n      <td>0</td>\n      <td>0</td>\n      <td>0</td>\n      <td>0</td>\n      <td>0</td>\n      <td>0</td>\n      <td>0</td>\n      <td>0</td>\n      <td>0</td>\n      <td>1</td>\n      <td>0</td>\n      <td>0</td>\n    </tr>\n    <tr>\n      <th>3270</th>\n      <td>6/25/2017</td>\n      <td>7.6</td>\n      <td>19.3</td>\n      <td>0.0</td>\n      <td>3.4</td>\n      <td>9.4</td>\n      <td>35</td>\n      <td>13</td>\n      <td>13</td>\n      <td>73</td>\n      <td>32</td>\n      <td>1018.6</td>\n      <td>1015.4</td>\n      <td>1</td>\n      <td>1</td>\n      <td>9.4</td>\n      <td>18.8</td>\n      <td>0</td>\n      <td>1</td>\n      <td>0</td>\n      <td>0</td>\n      <td>0</td>\n      <td>0</td>\n      <td>0</td>\n      <td>0</td>\n      <td>0</td>\n      <td>0</td>\n      <td>0</td>\n      <td>0</td>\n      <td>0</td>\n      <td>0</td>\n      <td>0</td>\n      <td>0</td>\n      <td>1</td>\n      <td>0</td>\n      <td>0</td>\n      <td>0</td>\n      <td>0</td>\n      <td>0</td>\n      <td>0</td>\n      <td>0</td>\n      <td>0</td>\n      <td>0</td>\n      <td>0</td>\n      <td>0</td>\n      <td>0</td>\n      <td>0</td>\n      <td>0</td>\n      <td>0</td>\n      <td>1</td>\n      <td>0</td>\n      <td>0</td>\n      <td>0</td>\n      <td>0</td>\n      <td>0</td>\n      <td>0</td>\n      <td>0</td>\n      <td>0</td>\n      <td>0</td>\n      <td>0</td>\n      <td>0</td>\n      <td>0</td>\n      <td>0</td>\n      <td>0</td>\n      <td>0</td>\n      <td>1</td>\n      <td>0</td>\n      <td>0</td>\n    </tr>\n  </tbody>\n</table>\n<p>3271 rows × 68 columns</p>\n</div>"
          },
          "metadata": {}
        }
      ]
    },
    {
      "cell_type": "markdown",
      "source": "### Training Data and Test Data\n",
      "metadata": {}
    },
    {
      "cell_type": "markdown",
      "source": "Now, we set our 'features' or x values and our Y or target variable.\n",
      "metadata": {}
    },
    {
      "cell_type": "code",
      "source": "df_sydney_processed.drop('Date',axis=1,inplace=True)",
      "metadata": {
        "trusted": true
      },
      "execution_count": 11,
      "outputs": []
    },
    {
      "cell_type": "code",
      "source": "df_sydney_processed = df_sydney_processed.astype(float)",
      "metadata": {
        "trusted": true
      },
      "execution_count": 12,
      "outputs": []
    },
    {
      "cell_type": "code",
      "source": "df_sydney_processed",
      "metadata": {
        "trusted": true
      },
      "execution_count": 14,
      "outputs": [
        {
          "execution_count": 14,
          "output_type": "execute_result",
          "data": {
            "text/plain": "      MinTemp  MaxTemp  Rainfall  Evaporation  Sunshine  WindGustSpeed  \\\n0        19.5     22.4      15.6          6.2       0.0           41.0   \n1        19.5     25.6       6.0          3.4       2.7           41.0   \n2        21.6     24.5       6.6          2.4       0.1           41.0   \n3        20.2     22.8      18.8          2.2       0.0           41.0   \n4        19.7     25.7      77.4          4.8       0.0           41.0   \n...       ...      ...       ...          ...       ...            ...   \n3266      8.6     19.6       0.0          2.0       7.8           37.0   \n3267      9.3     19.2       0.0          2.0       9.2           30.0   \n3268      9.4     17.7       0.0          2.4       2.7           24.0   \n3269     10.1     19.3       0.0          1.4       9.3           43.0   \n3270      7.6     19.3       0.0          3.4       9.4           35.0   \n\n      WindSpeed9am  WindSpeed3pm  Humidity9am  Humidity3pm  Pressure9am  \\\n0             17.0          20.0         92.0         84.0       1017.6   \n1              9.0          13.0         83.0         73.0       1017.9   \n2             17.0           2.0         88.0         86.0       1016.7   \n3             22.0          20.0         83.0         90.0       1014.2   \n4             11.0           6.0         88.0         74.0       1008.3   \n...            ...           ...          ...          ...          ...   \n3266          22.0          20.0         73.0         52.0       1025.9   \n3267          20.0           7.0         78.0         53.0       1028.5   \n3268          15.0          13.0         85.0         56.0       1020.8   \n3269          17.0          19.0         56.0         35.0       1017.3   \n3270          13.0          13.0         73.0         32.0       1018.6   \n\n      Pressure3pm  Cloud9am  Cloud3pm  Temp9am  Temp3pm  RainTomorrow  \\\n0          1017.4       8.0       8.0     20.7     20.9           1.0   \n1          1016.4       7.0       7.0     22.4     24.8           1.0   \n2          1015.6       7.0       8.0     23.5     23.0           1.0   \n3          1011.8       8.0       8.0     21.4     20.9           1.0   \n4          1004.8       8.0       8.0     22.5     25.5           1.0   \n...           ...       ...       ...      ...      ...           ...   \n3266       1025.3       2.0       2.0     10.5     17.9           0.0   \n3267       1024.6       2.0       2.0     11.0     18.7           0.0   \n3268       1015.0       6.0       6.0     10.2     17.3           0.0   \n3269       1015.1       5.0       2.0     12.4     19.0           0.0   \n3270       1015.4       1.0       1.0      9.4     18.8           0.0   \n\n      RainToday_No  RainToday_Yes  WindGustDir_E  WindGustDir_ENE  \\\n0              0.0            1.0            0.0              0.0   \n1              0.0            1.0            0.0              0.0   \n2              0.0            1.0            0.0              0.0   \n3              0.0            1.0            0.0              0.0   \n4              0.0            1.0            0.0              0.0   \n...            ...            ...            ...              ...   \n3266           1.0            0.0            0.0              0.0   \n3267           1.0            0.0            0.0              0.0   \n3268           1.0            0.0            0.0              0.0   \n3269           1.0            0.0            0.0              0.0   \n3270           1.0            0.0            0.0              0.0   \n\n      WindGustDir_ESE  WindGustDir_N  WindGustDir_NE  WindGustDir_NNE  \\\n0                 0.0            0.0             0.0              0.0   \n1                 0.0            0.0             0.0              0.0   \n2                 0.0            0.0             0.0              0.0   \n3                 0.0            0.0             0.0              0.0   \n4                 0.0            0.0             0.0              0.0   \n...               ...            ...             ...              ...   \n3266              0.0            0.0             0.0              0.0   \n3267              0.0            0.0             0.0              0.0   \n3268              0.0            0.0             0.0              0.0   \n3269              0.0            0.0             0.0              0.0   \n3270              0.0            0.0             0.0              0.0   \n\n      WindGustDir_NNW  WindGustDir_NW  WindGustDir_S  WindGustDir_SE  \\\n0                 0.0             0.0            0.0             0.0   \n1                 0.0             0.0            0.0             0.0   \n2                 0.0             0.0            0.0             0.0   \n3                 0.0             0.0            0.0             0.0   \n4                 0.0             0.0            0.0             0.0   \n...               ...             ...            ...             ...   \n3266              0.0             0.0            0.0             0.0   \n3267              0.0             0.0            0.0             0.0   \n3268              0.0             0.0            0.0             0.0   \n3269              0.0             0.0            0.0             0.0   \n3270              0.0             0.0            0.0             0.0   \n\n      WindGustDir_SSE  WindGustDir_SSW  WindGustDir_SW  WindGustDir_W  \\\n0                 0.0              0.0             0.0            1.0   \n1                 0.0              0.0             0.0            1.0   \n2                 0.0              0.0             0.0            1.0   \n3                 0.0              0.0             0.0            1.0   \n4                 0.0              0.0             0.0            1.0   \n...               ...              ...             ...            ...   \n3266              1.0              0.0             0.0            0.0   \n3267              0.0              0.0             0.0            1.0   \n3268              0.0              0.0             0.0            1.0   \n3269              0.0              0.0             0.0            1.0   \n3270              0.0              0.0             0.0            1.0   \n\n      WindGustDir_WNW  WindGustDir_WSW  WindDir9am_E  WindDir9am_ENE  \\\n0                 0.0              0.0           0.0             0.0   \n1                 0.0              0.0           0.0             0.0   \n2                 0.0              0.0           0.0             0.0   \n3                 0.0              0.0           0.0             0.0   \n4                 0.0              0.0           0.0             0.0   \n...               ...              ...           ...             ...   \n3266              0.0              0.0           0.0             0.0   \n3267              0.0              0.0           0.0             0.0   \n3268              0.0              0.0           0.0             0.0   \n3269              0.0              0.0           0.0             0.0   \n3270              0.0              0.0           0.0             0.0   \n\n      WindDir9am_ESE  WindDir9am_N  WindDir9am_NE  WindDir9am_NNE  \\\n0                0.0           0.0            0.0             0.0   \n1                0.0           0.0            0.0             0.0   \n2                1.0           0.0            0.0             0.0   \n3                0.0           0.0            0.0             1.0   \n4                0.0           0.0            0.0             1.0   \n...              ...           ...            ...             ...   \n3266             0.0           0.0            0.0             0.0   \n3267             0.0           0.0            0.0             0.0   \n3268             0.0           0.0            0.0             0.0   \n3269             0.0           0.0            0.0             0.0   \n3270             0.0           0.0            0.0             0.0   \n\n      WindDir9am_NNW  WindDir9am_NW  WindDir9am_S  WindDir9am_SE  \\\n0                0.0            0.0           1.0            0.0   \n1                0.0            0.0           0.0            0.0   \n2                0.0            0.0           0.0            0.0   \n3                0.0            0.0           0.0            0.0   \n4                0.0            0.0           0.0            0.0   \n...              ...            ...           ...            ...   \n3266             0.0            0.0           0.0            0.0   \n3267             0.0            0.0           0.0            0.0   \n3268             0.0            0.0           0.0            0.0   \n3269             0.0            0.0           0.0            0.0   \n3270             0.0            0.0           0.0            0.0   \n\n      WindDir9am_SSE  WindDir9am_SSW  WindDir9am_SW  WindDir9am_W  \\\n0                0.0             0.0            0.0           0.0   \n1                0.0             0.0            0.0           1.0   \n2                0.0             0.0            0.0           0.0   \n3                0.0             0.0            0.0           0.0   \n4                0.0             0.0            0.0           0.0   \n...              ...             ...            ...           ...   \n3266             0.0             0.0            0.0           1.0   \n3267             0.0             0.0            0.0           1.0   \n3268             0.0             0.0            0.0           0.0   \n3269             0.0             0.0            0.0           1.0   \n3270             0.0             0.0            0.0           1.0   \n\n      WindDir9am_WNW  WindDir9am_WSW  WindDir3pm_E  WindDir3pm_ENE  \\\n0                0.0             0.0           0.0             0.0   \n1                0.0             0.0           1.0             0.0   \n2                0.0             0.0           0.0             0.0   \n3                0.0             0.0           1.0             0.0   \n4                0.0             0.0           0.0             0.0   \n...              ...             ...           ...             ...   \n3266             0.0             0.0           0.0             0.0   \n3267             0.0             0.0           0.0             0.0   \n3268             1.0             0.0           0.0             0.0   \n3269             0.0             0.0           0.0             0.0   \n3270             0.0             0.0           0.0             0.0   \n\n      WindDir3pm_ESE  WindDir3pm_N  WindDir3pm_NE  WindDir3pm_NNE  \\\n0                0.0           0.0            0.0             0.0   \n1                0.0           0.0            0.0             0.0   \n2                1.0           0.0            0.0             0.0   \n3                0.0           0.0            0.0             0.0   \n4                0.0           0.0            0.0             0.0   \n...              ...           ...            ...             ...   \n3266             0.0           0.0            0.0             0.0   \n3267             1.0           0.0            0.0             0.0   \n3268             0.0           1.0            0.0             0.0   \n3269             0.0           0.0            0.0             0.0   \n3270             0.0           0.0            0.0             0.0   \n\n      WindDir3pm_NNW  WindDir3pm_NW  WindDir3pm_S  WindDir3pm_SE  \\\n0                0.0            0.0           0.0            0.0   \n1                0.0            0.0           0.0            0.0   \n2                0.0            0.0           0.0            0.0   \n3                0.0            0.0           0.0            0.0   \n4                0.0            0.0           0.0            0.0   \n...              ...            ...           ...            ...   \n3266             0.0            0.0           0.0            0.0   \n3267             0.0            0.0           0.0            0.0   \n3268             0.0            0.0           0.0            0.0   \n3269             0.0            0.0           0.0            0.0   \n3270             0.0            0.0           0.0            0.0   \n\n      WindDir3pm_SSE  WindDir3pm_SSW  WindDir3pm_SW  WindDir3pm_W  \\\n0                0.0             1.0            0.0           0.0   \n1                0.0             0.0            0.0           0.0   \n2                0.0             0.0            0.0           0.0   \n3                0.0             0.0            0.0           0.0   \n4                0.0             0.0            0.0           1.0   \n...              ...             ...            ...           ...   \n3266             1.0             0.0            0.0           0.0   \n3267             0.0             0.0            0.0           0.0   \n3268             0.0             0.0            0.0           0.0   \n3269             0.0             0.0            0.0           1.0   \n3270             0.0             0.0            0.0           1.0   \n\n      WindDir3pm_WNW  WindDir3pm_WSW  \n0                0.0             0.0  \n1                0.0             0.0  \n2                0.0             0.0  \n3                0.0             0.0  \n4                0.0             0.0  \n...              ...             ...  \n3266             0.0             0.0  \n3267             0.0             0.0  \n3268             0.0             0.0  \n3269             0.0             0.0  \n3270             0.0             0.0  \n\n[3271 rows x 67 columns]",
            "text/html": "<div>\n<style scoped>\n    .dataframe tbody tr th:only-of-type {\n        vertical-align: middle;\n    }\n\n    .dataframe tbody tr th {\n        vertical-align: top;\n    }\n\n    .dataframe thead th {\n        text-align: right;\n    }\n</style>\n<table border=\"1\" class=\"dataframe\">\n  <thead>\n    <tr style=\"text-align: right;\">\n      <th></th>\n      <th>MinTemp</th>\n      <th>MaxTemp</th>\n      <th>Rainfall</th>\n      <th>Evaporation</th>\n      <th>Sunshine</th>\n      <th>WindGustSpeed</th>\n      <th>WindSpeed9am</th>\n      <th>WindSpeed3pm</th>\n      <th>Humidity9am</th>\n      <th>Humidity3pm</th>\n      <th>Pressure9am</th>\n      <th>Pressure3pm</th>\n      <th>Cloud9am</th>\n      <th>Cloud3pm</th>\n      <th>Temp9am</th>\n      <th>Temp3pm</th>\n      <th>RainTomorrow</th>\n      <th>RainToday_No</th>\n      <th>RainToday_Yes</th>\n      <th>WindGustDir_E</th>\n      <th>WindGustDir_ENE</th>\n      <th>WindGustDir_ESE</th>\n      <th>WindGustDir_N</th>\n      <th>WindGustDir_NE</th>\n      <th>WindGustDir_NNE</th>\n      <th>WindGustDir_NNW</th>\n      <th>WindGustDir_NW</th>\n      <th>WindGustDir_S</th>\n      <th>WindGustDir_SE</th>\n      <th>WindGustDir_SSE</th>\n      <th>WindGustDir_SSW</th>\n      <th>WindGustDir_SW</th>\n      <th>WindGustDir_W</th>\n      <th>WindGustDir_WNW</th>\n      <th>WindGustDir_WSW</th>\n      <th>WindDir9am_E</th>\n      <th>WindDir9am_ENE</th>\n      <th>WindDir9am_ESE</th>\n      <th>WindDir9am_N</th>\n      <th>WindDir9am_NE</th>\n      <th>WindDir9am_NNE</th>\n      <th>WindDir9am_NNW</th>\n      <th>WindDir9am_NW</th>\n      <th>WindDir9am_S</th>\n      <th>WindDir9am_SE</th>\n      <th>WindDir9am_SSE</th>\n      <th>WindDir9am_SSW</th>\n      <th>WindDir9am_SW</th>\n      <th>WindDir9am_W</th>\n      <th>WindDir9am_WNW</th>\n      <th>WindDir9am_WSW</th>\n      <th>WindDir3pm_E</th>\n      <th>WindDir3pm_ENE</th>\n      <th>WindDir3pm_ESE</th>\n      <th>WindDir3pm_N</th>\n      <th>WindDir3pm_NE</th>\n      <th>WindDir3pm_NNE</th>\n      <th>WindDir3pm_NNW</th>\n      <th>WindDir3pm_NW</th>\n      <th>WindDir3pm_S</th>\n      <th>WindDir3pm_SE</th>\n      <th>WindDir3pm_SSE</th>\n      <th>WindDir3pm_SSW</th>\n      <th>WindDir3pm_SW</th>\n      <th>WindDir3pm_W</th>\n      <th>WindDir3pm_WNW</th>\n      <th>WindDir3pm_WSW</th>\n    </tr>\n  </thead>\n  <tbody>\n    <tr>\n      <th>0</th>\n      <td>19.5</td>\n      <td>22.4</td>\n      <td>15.6</td>\n      <td>6.2</td>\n      <td>0.0</td>\n      <td>41.0</td>\n      <td>17.0</td>\n      <td>20.0</td>\n      <td>92.0</td>\n      <td>84.0</td>\n      <td>1017.6</td>\n      <td>1017.4</td>\n      <td>8.0</td>\n      <td>8.0</td>\n      <td>20.7</td>\n      <td>20.9</td>\n      <td>1.0</td>\n      <td>0.0</td>\n      <td>1.0</td>\n      <td>0.0</td>\n      <td>0.0</td>\n      <td>0.0</td>\n      <td>0.0</td>\n      <td>0.0</td>\n      <td>0.0</td>\n      <td>0.0</td>\n      <td>0.0</td>\n      <td>0.0</td>\n      <td>0.0</td>\n      <td>0.0</td>\n      <td>0.0</td>\n      <td>0.0</td>\n      <td>1.0</td>\n      <td>0.0</td>\n      <td>0.0</td>\n      <td>0.0</td>\n      <td>0.0</td>\n      <td>0.0</td>\n      <td>0.0</td>\n      <td>0.0</td>\n      <td>0.0</td>\n      <td>0.0</td>\n      <td>0.0</td>\n      <td>1.0</td>\n      <td>0.0</td>\n      <td>0.0</td>\n      <td>0.0</td>\n      <td>0.0</td>\n      <td>0.0</td>\n      <td>0.0</td>\n      <td>0.0</td>\n      <td>0.0</td>\n      <td>0.0</td>\n      <td>0.0</td>\n      <td>0.0</td>\n      <td>0.0</td>\n      <td>0.0</td>\n      <td>0.0</td>\n      <td>0.0</td>\n      <td>0.0</td>\n      <td>0.0</td>\n      <td>0.0</td>\n      <td>1.0</td>\n      <td>0.0</td>\n      <td>0.0</td>\n      <td>0.0</td>\n      <td>0.0</td>\n    </tr>\n    <tr>\n      <th>1</th>\n      <td>19.5</td>\n      <td>25.6</td>\n      <td>6.0</td>\n      <td>3.4</td>\n      <td>2.7</td>\n      <td>41.0</td>\n      <td>9.0</td>\n      <td>13.0</td>\n      <td>83.0</td>\n      <td>73.0</td>\n      <td>1017.9</td>\n      <td>1016.4</td>\n      <td>7.0</td>\n      <td>7.0</td>\n      <td>22.4</td>\n      <td>24.8</td>\n      <td>1.0</td>\n      <td>0.0</td>\n      <td>1.0</td>\n      <td>0.0</td>\n      <td>0.0</td>\n      <td>0.0</td>\n      <td>0.0</td>\n      <td>0.0</td>\n      <td>0.0</td>\n      <td>0.0</td>\n      <td>0.0</td>\n      <td>0.0</td>\n      <td>0.0</td>\n      <td>0.0</td>\n      <td>0.0</td>\n      <td>0.0</td>\n      <td>1.0</td>\n      <td>0.0</td>\n      <td>0.0</td>\n      <td>0.0</td>\n      <td>0.0</td>\n      <td>0.0</td>\n      <td>0.0</td>\n      <td>0.0</td>\n      <td>0.0</td>\n      <td>0.0</td>\n      <td>0.0</td>\n      <td>0.0</td>\n      <td>0.0</td>\n      <td>0.0</td>\n      <td>0.0</td>\n      <td>0.0</td>\n      <td>1.0</td>\n      <td>0.0</td>\n      <td>0.0</td>\n      <td>1.0</td>\n      <td>0.0</td>\n      <td>0.0</td>\n      <td>0.0</td>\n      <td>0.0</td>\n      <td>0.0</td>\n      <td>0.0</td>\n      <td>0.0</td>\n      <td>0.0</td>\n      <td>0.0</td>\n      <td>0.0</td>\n      <td>0.0</td>\n      <td>0.0</td>\n      <td>0.0</td>\n      <td>0.0</td>\n      <td>0.0</td>\n    </tr>\n    <tr>\n      <th>2</th>\n      <td>21.6</td>\n      <td>24.5</td>\n      <td>6.6</td>\n      <td>2.4</td>\n      <td>0.1</td>\n      <td>41.0</td>\n      <td>17.0</td>\n      <td>2.0</td>\n      <td>88.0</td>\n      <td>86.0</td>\n      <td>1016.7</td>\n      <td>1015.6</td>\n      <td>7.0</td>\n      <td>8.0</td>\n      <td>23.5</td>\n      <td>23.0</td>\n      <td>1.0</td>\n      <td>0.0</td>\n      <td>1.0</td>\n      <td>0.0</td>\n      <td>0.0</td>\n      <td>0.0</td>\n      <td>0.0</td>\n      <td>0.0</td>\n      <td>0.0</td>\n      <td>0.0</td>\n      <td>0.0</td>\n      <td>0.0</td>\n      <td>0.0</td>\n      <td>0.0</td>\n      <td>0.0</td>\n      <td>0.0</td>\n      <td>1.0</td>\n      <td>0.0</td>\n      <td>0.0</td>\n      <td>0.0</td>\n      <td>0.0</td>\n      <td>1.0</td>\n      <td>0.0</td>\n      <td>0.0</td>\n      <td>0.0</td>\n      <td>0.0</td>\n      <td>0.0</td>\n      <td>0.0</td>\n      <td>0.0</td>\n      <td>0.0</td>\n      <td>0.0</td>\n      <td>0.0</td>\n      <td>0.0</td>\n      <td>0.0</td>\n      <td>0.0</td>\n      <td>0.0</td>\n      <td>0.0</td>\n      <td>1.0</td>\n      <td>0.0</td>\n      <td>0.0</td>\n      <td>0.0</td>\n      <td>0.0</td>\n      <td>0.0</td>\n      <td>0.0</td>\n      <td>0.0</td>\n      <td>0.0</td>\n      <td>0.0</td>\n      <td>0.0</td>\n      <td>0.0</td>\n      <td>0.0</td>\n      <td>0.0</td>\n    </tr>\n    <tr>\n      <th>3</th>\n      <td>20.2</td>\n      <td>22.8</td>\n      <td>18.8</td>\n      <td>2.2</td>\n      <td>0.0</td>\n      <td>41.0</td>\n      <td>22.0</td>\n      <td>20.0</td>\n      <td>83.0</td>\n      <td>90.0</td>\n      <td>1014.2</td>\n      <td>1011.8</td>\n      <td>8.0</td>\n      <td>8.0</td>\n      <td>21.4</td>\n      <td>20.9</td>\n      <td>1.0</td>\n      <td>0.0</td>\n      <td>1.0</td>\n      <td>0.0</td>\n      <td>0.0</td>\n      <td>0.0</td>\n      <td>0.0</td>\n      <td>0.0</td>\n      <td>0.0</td>\n      <td>0.0</td>\n      <td>0.0</td>\n      <td>0.0</td>\n      <td>0.0</td>\n      <td>0.0</td>\n      <td>0.0</td>\n      <td>0.0</td>\n      <td>1.0</td>\n      <td>0.0</td>\n      <td>0.0</td>\n      <td>0.0</td>\n      <td>0.0</td>\n      <td>0.0</td>\n      <td>0.0</td>\n      <td>0.0</td>\n      <td>1.0</td>\n      <td>0.0</td>\n      <td>0.0</td>\n      <td>0.0</td>\n      <td>0.0</td>\n      <td>0.0</td>\n      <td>0.0</td>\n      <td>0.0</td>\n      <td>0.0</td>\n      <td>0.0</td>\n      <td>0.0</td>\n      <td>1.0</td>\n      <td>0.0</td>\n      <td>0.0</td>\n      <td>0.0</td>\n      <td>0.0</td>\n      <td>0.0</td>\n      <td>0.0</td>\n      <td>0.0</td>\n      <td>0.0</td>\n      <td>0.0</td>\n      <td>0.0</td>\n      <td>0.0</td>\n      <td>0.0</td>\n      <td>0.0</td>\n      <td>0.0</td>\n      <td>0.0</td>\n    </tr>\n    <tr>\n      <th>4</th>\n      <td>19.7</td>\n      <td>25.7</td>\n      <td>77.4</td>\n      <td>4.8</td>\n      <td>0.0</td>\n      <td>41.0</td>\n      <td>11.0</td>\n      <td>6.0</td>\n      <td>88.0</td>\n      <td>74.0</td>\n      <td>1008.3</td>\n      <td>1004.8</td>\n      <td>8.0</td>\n      <td>8.0</td>\n      <td>22.5</td>\n      <td>25.5</td>\n      <td>1.0</td>\n      <td>0.0</td>\n      <td>1.0</td>\n      <td>0.0</td>\n      <td>0.0</td>\n      <td>0.0</td>\n      <td>0.0</td>\n      <td>0.0</td>\n      <td>0.0</td>\n      <td>0.0</td>\n      <td>0.0</td>\n      <td>0.0</td>\n      <td>0.0</td>\n      <td>0.0</td>\n      <td>0.0</td>\n      <td>0.0</td>\n      <td>1.0</td>\n      <td>0.0</td>\n      <td>0.0</td>\n      <td>0.0</td>\n      <td>0.0</td>\n      <td>0.0</td>\n      <td>0.0</td>\n      <td>0.0</td>\n      <td>1.0</td>\n      <td>0.0</td>\n      <td>0.0</td>\n      <td>0.0</td>\n      <td>0.0</td>\n      <td>0.0</td>\n      <td>0.0</td>\n      <td>0.0</td>\n      <td>0.0</td>\n      <td>0.0</td>\n      <td>0.0</td>\n      <td>0.0</td>\n      <td>0.0</td>\n      <td>0.0</td>\n      <td>0.0</td>\n      <td>0.0</td>\n      <td>0.0</td>\n      <td>0.0</td>\n      <td>0.0</td>\n      <td>0.0</td>\n      <td>0.0</td>\n      <td>0.0</td>\n      <td>0.0</td>\n      <td>0.0</td>\n      <td>1.0</td>\n      <td>0.0</td>\n      <td>0.0</td>\n    </tr>\n    <tr>\n      <th>...</th>\n      <td>...</td>\n      <td>...</td>\n      <td>...</td>\n      <td>...</td>\n      <td>...</td>\n      <td>...</td>\n      <td>...</td>\n      <td>...</td>\n      <td>...</td>\n      <td>...</td>\n      <td>...</td>\n      <td>...</td>\n      <td>...</td>\n      <td>...</td>\n      <td>...</td>\n      <td>...</td>\n      <td>...</td>\n      <td>...</td>\n      <td>...</td>\n      <td>...</td>\n      <td>...</td>\n      <td>...</td>\n      <td>...</td>\n      <td>...</td>\n      <td>...</td>\n      <td>...</td>\n      <td>...</td>\n      <td>...</td>\n      <td>...</td>\n      <td>...</td>\n      <td>...</td>\n      <td>...</td>\n      <td>...</td>\n      <td>...</td>\n      <td>...</td>\n      <td>...</td>\n      <td>...</td>\n      <td>...</td>\n      <td>...</td>\n      <td>...</td>\n      <td>...</td>\n      <td>...</td>\n      <td>...</td>\n      <td>...</td>\n      <td>...</td>\n      <td>...</td>\n      <td>...</td>\n      <td>...</td>\n      <td>...</td>\n      <td>...</td>\n      <td>...</td>\n      <td>...</td>\n      <td>...</td>\n      <td>...</td>\n      <td>...</td>\n      <td>...</td>\n      <td>...</td>\n      <td>...</td>\n      <td>...</td>\n      <td>...</td>\n      <td>...</td>\n      <td>...</td>\n      <td>...</td>\n      <td>...</td>\n      <td>...</td>\n      <td>...</td>\n      <td>...</td>\n    </tr>\n    <tr>\n      <th>3266</th>\n      <td>8.6</td>\n      <td>19.6</td>\n      <td>0.0</td>\n      <td>2.0</td>\n      <td>7.8</td>\n      <td>37.0</td>\n      <td>22.0</td>\n      <td>20.0</td>\n      <td>73.0</td>\n      <td>52.0</td>\n      <td>1025.9</td>\n      <td>1025.3</td>\n      <td>2.0</td>\n      <td>2.0</td>\n      <td>10.5</td>\n      <td>17.9</td>\n      <td>0.0</td>\n      <td>1.0</td>\n      <td>0.0</td>\n      <td>0.0</td>\n      <td>0.0</td>\n      <td>0.0</td>\n      <td>0.0</td>\n      <td>0.0</td>\n      <td>0.0</td>\n      <td>0.0</td>\n      <td>0.0</td>\n      <td>0.0</td>\n      <td>0.0</td>\n      <td>1.0</td>\n      <td>0.0</td>\n      <td>0.0</td>\n      <td>0.0</td>\n      <td>0.0</td>\n      <td>0.0</td>\n      <td>0.0</td>\n      <td>0.0</td>\n      <td>0.0</td>\n      <td>0.0</td>\n      <td>0.0</td>\n      <td>0.0</td>\n      <td>0.0</td>\n      <td>0.0</td>\n      <td>0.0</td>\n      <td>0.0</td>\n      <td>0.0</td>\n      <td>0.0</td>\n      <td>0.0</td>\n      <td>1.0</td>\n      <td>0.0</td>\n      <td>0.0</td>\n      <td>0.0</td>\n      <td>0.0</td>\n      <td>0.0</td>\n      <td>0.0</td>\n      <td>0.0</td>\n      <td>0.0</td>\n      <td>0.0</td>\n      <td>0.0</td>\n      <td>0.0</td>\n      <td>0.0</td>\n      <td>1.0</td>\n      <td>0.0</td>\n      <td>0.0</td>\n      <td>0.0</td>\n      <td>0.0</td>\n      <td>0.0</td>\n    </tr>\n    <tr>\n      <th>3267</th>\n      <td>9.3</td>\n      <td>19.2</td>\n      <td>0.0</td>\n      <td>2.0</td>\n      <td>9.2</td>\n      <td>30.0</td>\n      <td>20.0</td>\n      <td>7.0</td>\n      <td>78.0</td>\n      <td>53.0</td>\n      <td>1028.5</td>\n      <td>1024.6</td>\n      <td>2.0</td>\n      <td>2.0</td>\n      <td>11.0</td>\n      <td>18.7</td>\n      <td>0.0</td>\n      <td>1.0</td>\n      <td>0.0</td>\n      <td>0.0</td>\n      <td>0.0</td>\n      <td>0.0</td>\n      <td>0.0</td>\n      <td>0.0</td>\n      <td>0.0</td>\n      <td>0.0</td>\n      <td>0.0</td>\n      <td>0.0</td>\n      <td>0.0</td>\n      <td>0.0</td>\n      <td>0.0</td>\n      <td>0.0</td>\n      <td>1.0</td>\n      <td>0.0</td>\n      <td>0.0</td>\n      <td>0.0</td>\n      <td>0.0</td>\n      <td>0.0</td>\n      <td>0.0</td>\n      <td>0.0</td>\n      <td>0.0</td>\n      <td>0.0</td>\n      <td>0.0</td>\n      <td>0.0</td>\n      <td>0.0</td>\n      <td>0.0</td>\n      <td>0.0</td>\n      <td>0.0</td>\n      <td>1.0</td>\n      <td>0.0</td>\n      <td>0.0</td>\n      <td>0.0</td>\n      <td>0.0</td>\n      <td>1.0</td>\n      <td>0.0</td>\n      <td>0.0</td>\n      <td>0.0</td>\n      <td>0.0</td>\n      <td>0.0</td>\n      <td>0.0</td>\n      <td>0.0</td>\n      <td>0.0</td>\n      <td>0.0</td>\n      <td>0.0</td>\n      <td>0.0</td>\n      <td>0.0</td>\n      <td>0.0</td>\n    </tr>\n    <tr>\n      <th>3268</th>\n      <td>9.4</td>\n      <td>17.7</td>\n      <td>0.0</td>\n      <td>2.4</td>\n      <td>2.7</td>\n      <td>24.0</td>\n      <td>15.0</td>\n      <td>13.0</td>\n      <td>85.0</td>\n      <td>56.0</td>\n      <td>1020.8</td>\n      <td>1015.0</td>\n      <td>6.0</td>\n      <td>6.0</td>\n      <td>10.2</td>\n      <td>17.3</td>\n      <td>0.0</td>\n      <td>1.0</td>\n      <td>0.0</td>\n      <td>0.0</td>\n      <td>0.0</td>\n      <td>0.0</td>\n      <td>0.0</td>\n      <td>0.0</td>\n      <td>0.0</td>\n      <td>0.0</td>\n      <td>0.0</td>\n      <td>0.0</td>\n      <td>0.0</td>\n      <td>0.0</td>\n      <td>0.0</td>\n      <td>0.0</td>\n      <td>1.0</td>\n      <td>0.0</td>\n      <td>0.0</td>\n      <td>0.0</td>\n      <td>0.0</td>\n      <td>0.0</td>\n      <td>0.0</td>\n      <td>0.0</td>\n      <td>0.0</td>\n      <td>0.0</td>\n      <td>0.0</td>\n      <td>0.0</td>\n      <td>0.0</td>\n      <td>0.0</td>\n      <td>0.0</td>\n      <td>0.0</td>\n      <td>0.0</td>\n      <td>1.0</td>\n      <td>0.0</td>\n      <td>0.0</td>\n      <td>0.0</td>\n      <td>0.0</td>\n      <td>1.0</td>\n      <td>0.0</td>\n      <td>0.0</td>\n      <td>0.0</td>\n      <td>0.0</td>\n      <td>0.0</td>\n      <td>0.0</td>\n      <td>0.0</td>\n      <td>0.0</td>\n      <td>0.0</td>\n      <td>0.0</td>\n      <td>0.0</td>\n      <td>0.0</td>\n    </tr>\n    <tr>\n      <th>3269</th>\n      <td>10.1</td>\n      <td>19.3</td>\n      <td>0.0</td>\n      <td>1.4</td>\n      <td>9.3</td>\n      <td>43.0</td>\n      <td>17.0</td>\n      <td>19.0</td>\n      <td>56.0</td>\n      <td>35.0</td>\n      <td>1017.3</td>\n      <td>1015.1</td>\n      <td>5.0</td>\n      <td>2.0</td>\n      <td>12.4</td>\n      <td>19.0</td>\n      <td>0.0</td>\n      <td>1.0</td>\n      <td>0.0</td>\n      <td>0.0</td>\n      <td>0.0</td>\n      <td>0.0</td>\n      <td>0.0</td>\n      <td>0.0</td>\n      <td>0.0</td>\n      <td>0.0</td>\n      <td>0.0</td>\n      <td>0.0</td>\n      <td>0.0</td>\n      <td>0.0</td>\n      <td>0.0</td>\n      <td>0.0</td>\n      <td>1.0</td>\n      <td>0.0</td>\n      <td>0.0</td>\n      <td>0.0</td>\n      <td>0.0</td>\n      <td>0.0</td>\n      <td>0.0</td>\n      <td>0.0</td>\n      <td>0.0</td>\n      <td>0.0</td>\n      <td>0.0</td>\n      <td>0.0</td>\n      <td>0.0</td>\n      <td>0.0</td>\n      <td>0.0</td>\n      <td>0.0</td>\n      <td>1.0</td>\n      <td>0.0</td>\n      <td>0.0</td>\n      <td>0.0</td>\n      <td>0.0</td>\n      <td>0.0</td>\n      <td>0.0</td>\n      <td>0.0</td>\n      <td>0.0</td>\n      <td>0.0</td>\n      <td>0.0</td>\n      <td>0.0</td>\n      <td>0.0</td>\n      <td>0.0</td>\n      <td>0.0</td>\n      <td>0.0</td>\n      <td>1.0</td>\n      <td>0.0</td>\n      <td>0.0</td>\n    </tr>\n    <tr>\n      <th>3270</th>\n      <td>7.6</td>\n      <td>19.3</td>\n      <td>0.0</td>\n      <td>3.4</td>\n      <td>9.4</td>\n      <td>35.0</td>\n      <td>13.0</td>\n      <td>13.0</td>\n      <td>73.0</td>\n      <td>32.0</td>\n      <td>1018.6</td>\n      <td>1015.4</td>\n      <td>1.0</td>\n      <td>1.0</td>\n      <td>9.4</td>\n      <td>18.8</td>\n      <td>0.0</td>\n      <td>1.0</td>\n      <td>0.0</td>\n      <td>0.0</td>\n      <td>0.0</td>\n      <td>0.0</td>\n      <td>0.0</td>\n      <td>0.0</td>\n      <td>0.0</td>\n      <td>0.0</td>\n      <td>0.0</td>\n      <td>0.0</td>\n      <td>0.0</td>\n      <td>0.0</td>\n      <td>0.0</td>\n      <td>0.0</td>\n      <td>1.0</td>\n      <td>0.0</td>\n      <td>0.0</td>\n      <td>0.0</td>\n      <td>0.0</td>\n      <td>0.0</td>\n      <td>0.0</td>\n      <td>0.0</td>\n      <td>0.0</td>\n      <td>0.0</td>\n      <td>0.0</td>\n      <td>0.0</td>\n      <td>0.0</td>\n      <td>0.0</td>\n      <td>0.0</td>\n      <td>0.0</td>\n      <td>1.0</td>\n      <td>0.0</td>\n      <td>0.0</td>\n      <td>0.0</td>\n      <td>0.0</td>\n      <td>0.0</td>\n      <td>0.0</td>\n      <td>0.0</td>\n      <td>0.0</td>\n      <td>0.0</td>\n      <td>0.0</td>\n      <td>0.0</td>\n      <td>0.0</td>\n      <td>0.0</td>\n      <td>0.0</td>\n      <td>0.0</td>\n      <td>1.0</td>\n      <td>0.0</td>\n      <td>0.0</td>\n    </tr>\n  </tbody>\n</table>\n<p>3271 rows × 67 columns</p>\n</div>"
          },
          "metadata": {}
        }
      ]
    },
    {
      "cell_type": "code",
      "source": "features = df_sydney_processed.drop(columns='RainTomorrow', axis=1)\nY = df_sydney_processed['RainTomorrow']",
      "metadata": {
        "trusted": true
      },
      "execution_count": 17,
      "outputs": []
    },
    {
      "cell_type": "code",
      "source": "print(Y)\n",
      "metadata": {
        "trusted": true
      },
      "execution_count": 19,
      "outputs": [
        {
          "name": "stdout",
          "text": "0       1.0\n1       1.0\n2       1.0\n3       1.0\n4       1.0\n       ... \n3266    0.0\n3267    0.0\n3268    0.0\n3269    0.0\n3270    0.0\nName: RainTomorrow, Length: 3271, dtype: float64\n",
          "output_type": "stream"
        }
      ]
    },
    {
      "cell_type": "markdown",
      "source": "### Linear Regression\n",
      "metadata": {}
    },
    {
      "cell_type": "markdown",
      "source": "#### Q1) Use the `train_test_split` function to split the `features` and `Y` dataframes with a `test_size` of `0.2` and the `random_state` set to `10`.\n",
      "metadata": {}
    },
    {
      "cell_type": "code",
      "source": "#Enter Your Code, Execute and take the Screenshot\n\nX_train, X_test, y_train, y_test = train_test_split(features, Y, test_size=0.2, random_state=10)\n\n",
      "metadata": {
        "trusted": true
      },
      "execution_count": 21,
      "outputs": []
    },
    {
      "cell_type": "code",
      "source": "#print(X_train)\nprint(np.shape(X_train))\nprint(np.shape(X_test))\n\nprint(np.shape(y_train))\nprint(np.shape(y_test))\n",
      "metadata": {
        "trusted": true
      },
      "execution_count": 29,
      "outputs": [
        {
          "name": "stdout",
          "text": "(2616, 66)\n(655, 66)\n(2616,)\n(655,)\n",
          "output_type": "stream"
        }
      ]
    },
    {
      "cell_type": "markdown",
      "source": "#### Q2) Create and train a Linear Regression model called LinearReg using the training data (`x_train`, `y_train`).\n",
      "metadata": {}
    },
    {
      "cell_type": "code",
      "source": "#Enter Your Code, Execute and take the Screenshot",
      "metadata": {},
      "execution_count": null,
      "outputs": []
    },
    {
      "cell_type": "code",
      "source": "LinearReg = LinearRegression()\nLinearReg.fit(X_train, y_train)",
      "metadata": {
        "trusted": true
      },
      "execution_count": 31,
      "outputs": [
        {
          "execution_count": 31,
          "output_type": "execute_result",
          "data": {
            "text/plain": "LinearRegression()"
          },
          "metadata": {}
        }
      ]
    },
    {
      "cell_type": "markdown",
      "source": "#### Q3) Now use the `predict` method on the testing data (`x_test`) and save it to the array `predictions`.\n",
      "metadata": {}
    },
    {
      "cell_type": "code",
      "source": "#Enter Your Code, Execute and take the Screenshot",
      "metadata": {},
      "execution_count": null,
      "outputs": []
    },
    {
      "cell_type": "code",
      "source": "predictions = LinearReg.predict(X_test)",
      "metadata": {
        "trusted": true
      },
      "execution_count": 32,
      "outputs": []
    },
    {
      "cell_type": "code",
      "source": "#predictions[0:10]",
      "metadata": {
        "trusted": true
      },
      "execution_count": 35,
      "outputs": [
        {
          "execution_count": 35,
          "output_type": "execute_result",
          "data": {
            "text/plain": "array([0.13187027, 0.27623177, 0.97818375, 0.28743553, 0.13241768,\n       0.46044159, 0.35684204, 0.8563633 , 0.67498016, 0.03824997])"
          },
          "metadata": {}
        }
      ]
    },
    {
      "cell_type": "markdown",
      "source": "#### Q4) Using the `predictions` and the `y_test` dataframe calculate the value for each metric using the appropriate function.\n",
      "metadata": {}
    },
    {
      "cell_type": "code",
      "source": "#Enter Your Code, Execute and take the Screenshot",
      "metadata": {},
      "execution_count": null,
      "outputs": []
    },
    {
      "cell_type": "code",
      "source": "from sklearn.metrics import mean_absolute_error\nfrom sklearn.metrics import mean_squared_error\nfrom sklearn.metrics import r2_score\n\n\n\nLinearRegression_MAE = mean_absolute_error(y_test, predictions)\nLinearRegression_MSE = mean_squared_error(y_test, predictions)\nLinearRegression_R2 = r2_score(y_test, predictions)",
      "metadata": {
        "trusted": true
      },
      "execution_count": 37,
      "outputs": []
    },
    {
      "cell_type": "markdown",
      "source": "#### Q5) Show the MAE, MSE, and R2 in a tabular format using data frame for the linear model.\n",
      "metadata": {}
    },
    {
      "cell_type": "code",
      "source": "#Enter Your Code, Execute and take the Screenshot",
      "metadata": {},
      "execution_count": null,
      "outputs": []
    },
    {
      "cell_type": "code",
      "source": "Report = pd.DataFrame([[LinearRegression_MAE, LinearRegression_MSE, LinearRegression_R2]], columns=['MAE', 'MSE', 'R2'])\n",
      "metadata": {
        "trusted": true
      },
      "execution_count": 38,
      "outputs": []
    },
    {
      "cell_type": "code",
      "source": "Report",
      "metadata": {
        "trusted": true
      },
      "execution_count": 39,
      "outputs": [
        {
          "execution_count": 39,
          "output_type": "execute_result",
          "data": {
            "text/plain": "        MAE      MSE        R2\n0  0.256319  0.11572  0.427133",
            "text/html": "<div>\n<style scoped>\n    .dataframe tbody tr th:only-of-type {\n        vertical-align: middle;\n    }\n\n    .dataframe tbody tr th {\n        vertical-align: top;\n    }\n\n    .dataframe thead th {\n        text-align: right;\n    }\n</style>\n<table border=\"1\" class=\"dataframe\">\n  <thead>\n    <tr style=\"text-align: right;\">\n      <th></th>\n      <th>MAE</th>\n      <th>MSE</th>\n      <th>R2</th>\n    </tr>\n  </thead>\n  <tbody>\n    <tr>\n      <th>0</th>\n      <td>0.256319</td>\n      <td>0.11572</td>\n      <td>0.427133</td>\n    </tr>\n  </tbody>\n</table>\n</div>"
          },
          "metadata": {}
        }
      ]
    },
    {
      "cell_type": "markdown",
      "source": "### KNN\n",
      "metadata": {}
    },
    {
      "cell_type": "markdown",
      "source": "#### Q6) Create and train a KNN model called KNN using the training data (`x_train`, `y_train`) with the `n_neighbors` parameter set to `4`.\n",
      "metadata": {}
    },
    {
      "cell_type": "code",
      "source": "#Enter Your Code Below, Execute, and Save the Screenshot of the Final Output",
      "metadata": {},
      "execution_count": null,
      "outputs": []
    },
    {
      "cell_type": "code",
      "source": "KNN = KNeighborsClassifier(n_neighbors=4)\nKNN.fit(X_train, y_train)",
      "metadata": {
        "trusted": true
      },
      "execution_count": 41,
      "outputs": [
        {
          "execution_count": 41,
          "output_type": "execute_result",
          "data": {
            "text/plain": "KNeighborsClassifier(n_neighbors=4)"
          },
          "metadata": {}
        }
      ]
    },
    {
      "cell_type": "markdown",
      "source": "#### Q7) Now use the `predict` method on the testing data (`x_test`) and save it to the array `predictions`.\n",
      "metadata": {}
    },
    {
      "cell_type": "code",
      "source": "#Enter Your Code Below, Execute, and Save the Screenshot of the Final Output",
      "metadata": {},
      "execution_count": null,
      "outputs": []
    },
    {
      "cell_type": "code",
      "source": "predictions = KNN.predict(X_test)",
      "metadata": {
        "trusted": true
      },
      "execution_count": 42,
      "outputs": []
    },
    {
      "cell_type": "markdown",
      "source": "#### Q8) Using the `predictions` and the `y_test` dataframe calculate the value for each metric using the appropriate function.\n",
      "metadata": {}
    },
    {
      "cell_type": "code",
      "source": "#Enter Your Code Below, Execute, and Save the Screenshot of the Final Output",
      "metadata": {},
      "execution_count": null,
      "outputs": []
    },
    {
      "cell_type": "code",
      "source": "KNN_Accuracy_Score = accuracy_score(y_test, predictions)\nKNN_JaccardIndex = jaccard_score(y_test, predictions)\nKNN_F1_Score = f1_score(y_test, predictions, average='weighted')\n\nReport = pd.DataFrame([[KNN_Accuracy_Score, KNN_JaccardIndex, KNN_F1_Score]], columns=['Accuracy_Score', 'JaccardIndex', 'F1_Score'])\n\n",
      "metadata": {
        "trusted": true
      },
      "execution_count": 45,
      "outputs": []
    },
    {
      "cell_type": "code",
      "source": "Report",
      "metadata": {
        "trusted": true
      },
      "execution_count": 46,
      "outputs": [
        {
          "execution_count": 46,
          "output_type": "execute_result",
          "data": {
            "text/plain": "   Accuracy_Score  JaccardIndex  F1_Score\n0        0.818321      0.425121  0.802375",
            "text/html": "<div>\n<style scoped>\n    .dataframe tbody tr th:only-of-type {\n        vertical-align: middle;\n    }\n\n    .dataframe tbody tr th {\n        vertical-align: top;\n    }\n\n    .dataframe thead th {\n        text-align: right;\n    }\n</style>\n<table border=\"1\" class=\"dataframe\">\n  <thead>\n    <tr style=\"text-align: right;\">\n      <th></th>\n      <th>Accuracy_Score</th>\n      <th>JaccardIndex</th>\n      <th>F1_Score</th>\n    </tr>\n  </thead>\n  <tbody>\n    <tr>\n      <th>0</th>\n      <td>0.818321</td>\n      <td>0.425121</td>\n      <td>0.802375</td>\n    </tr>\n  </tbody>\n</table>\n</div>"
          },
          "metadata": {}
        }
      ]
    },
    {
      "cell_type": "markdown",
      "source": "### Decision Tree\n",
      "metadata": {}
    },
    {
      "cell_type": "markdown",
      "source": "#### Q9) Create and train a Decision Tree model called Tree using the training data (`x_train`, `y_train`).\n",
      "metadata": {}
    },
    {
      "cell_type": "code",
      "source": "#Enter Your Code, Execute and take the Screenshot",
      "metadata": {},
      "execution_count": null,
      "outputs": []
    },
    {
      "cell_type": "code",
      "source": "Tree = DecisionTreeClassifier()\nTree.fit(X_train, y_train)",
      "metadata": {
        "trusted": true
      },
      "execution_count": 47,
      "outputs": [
        {
          "execution_count": 47,
          "output_type": "execute_result",
          "data": {
            "text/plain": "DecisionTreeClassifier()"
          },
          "metadata": {}
        }
      ]
    },
    {
      "cell_type": "markdown",
      "source": "#### Q10) Now use the `predict` method on the testing data (`x_test`) and save it to the array `predictions`.\n",
      "metadata": {}
    },
    {
      "cell_type": "code",
      "source": "#Enter Your Code, Execute and take the Screenshot",
      "metadata": {},
      "execution_count": null,
      "outputs": []
    },
    {
      "cell_type": "code",
      "source": "predictions = Tree.predict(X_test)",
      "metadata": {
        "trusted": true
      },
      "execution_count": 48,
      "outputs": []
    },
    {
      "cell_type": "code",
      "source": "#print(len(predictions))",
      "metadata": {
        "trusted": true
      },
      "execution_count": 50,
      "outputs": [
        {
          "name": "stdout",
          "text": "655\n",
          "output_type": "stream"
        }
      ]
    },
    {
      "cell_type": "markdown",
      "source": "#### Q11) Using the `predictions` and the `y_test` dataframe calculate the value for each metric using the appropriate function.\n",
      "metadata": {}
    },
    {
      "cell_type": "code",
      "source": "#Enter Your Code, Execute and take the Screenshot",
      "metadata": {},
      "execution_count": null,
      "outputs": []
    },
    {
      "cell_type": "code",
      "source": "Tree_Accuracy_Score = accuracy_score(y_test, predictions)\nTree_JaccardIndex = jaccard_score(y_test, predictions, pos_label=1)\nTree_F1_Score = f1_score(y_test, predictions, pos_label=1)",
      "metadata": {
        "trusted": true
      },
      "execution_count": 53,
      "outputs": []
    },
    {
      "cell_type": "code",
      "source": "Report = pd.DataFrame([[Tree_Accuracy_Score, Tree_JaccardIndex, Tree_F1_Score]], columns=['Accuracy_Score', 'JaccardIndex', 'F1_Score'])\nReport",
      "metadata": {
        "trusted": true
      },
      "execution_count": 55,
      "outputs": [
        {
          "execution_count": 55,
          "output_type": "execute_result",
          "data": {
            "text/plain": "   Accuracy_Score  JaccardIndex  F1_Score\n0        0.757252      0.404494     0.576",
            "text/html": "<div>\n<style scoped>\n    .dataframe tbody tr th:only-of-type {\n        vertical-align: middle;\n    }\n\n    .dataframe tbody tr th {\n        vertical-align: top;\n    }\n\n    .dataframe thead th {\n        text-align: right;\n    }\n</style>\n<table border=\"1\" class=\"dataframe\">\n  <thead>\n    <tr style=\"text-align: right;\">\n      <th></th>\n      <th>Accuracy_Score</th>\n      <th>JaccardIndex</th>\n      <th>F1_Score</th>\n    </tr>\n  </thead>\n  <tbody>\n    <tr>\n      <th>0</th>\n      <td>0.757252</td>\n      <td>0.404494</td>\n      <td>0.576</td>\n    </tr>\n  </tbody>\n</table>\n</div>"
          },
          "metadata": {}
        }
      ]
    },
    {
      "cell_type": "markdown",
      "source": "### Logistic Regression\n",
      "metadata": {}
    },
    {
      "cell_type": "markdown",
      "source": "#### Q12) Use the `train_test_split` function to split the `features` and `Y` dataframes with a `test_size` of `0.2` and the `random_state` set to `1`.\n",
      "metadata": {}
    },
    {
      "cell_type": "code",
      "source": "#Enter Your Code, Execute and take the Screenshot",
      "metadata": {},
      "execution_count": null,
      "outputs": []
    },
    {
      "cell_type": "code",
      "source": "x_train, x_test, y_train, y_test = train_test_split(features, Y, test_size=0.2, random_state=1)",
      "metadata": {
        "trusted": true
      },
      "execution_count": 56,
      "outputs": []
    },
    {
      "cell_type": "markdown",
      "source": "#### Q13) Create and train a LogisticRegression model called LR using the training data (`x_train`, `y_train`) with the `solver` parameter set to `liblinear`.\n",
      "metadata": {}
    },
    {
      "cell_type": "code",
      "source": "#Enter Your Code, Execute and take the Screenshot",
      "metadata": {},
      "execution_count": null,
      "outputs": []
    },
    {
      "cell_type": "code",
      "source": "LR = LogisticRegression(solver='liblinear')\nLR.fit(X_train, y_train)",
      "metadata": {
        "trusted": true
      },
      "execution_count": 57,
      "outputs": [
        {
          "execution_count": 57,
          "output_type": "execute_result",
          "data": {
            "text/plain": "LogisticRegression(solver='liblinear')"
          },
          "metadata": {}
        }
      ]
    },
    {
      "cell_type": "markdown",
      "source": "#### Q14) Now, use the `predict` and `predict_proba` methods on the testing data (`x_test`) and save it as 2 arrays `predictions` and `predict_proba`.\n",
      "metadata": {}
    },
    {
      "cell_type": "code",
      "source": "#Enter Your Code, Execute and take the Screenshot",
      "metadata": {},
      "execution_count": null,
      "outputs": []
    },
    {
      "cell_type": "code",
      "source": "predictions = LR.predict(X_test)",
      "metadata": {
        "trusted": true
      },
      "execution_count": 59,
      "outputs": []
    },
    {
      "cell_type": "code",
      "source": "\n# Predict the probabilities of the positive class\npredict_proba = LR.predict_proba(X_test)[:, 1]",
      "metadata": {
        "trusted": true
      },
      "execution_count": 62,
      "outputs": []
    },
    {
      "cell_type": "code",
      "source": "predict_proba\npredictions",
      "metadata": {
        "trusted": true
      },
      "execution_count": 64,
      "outputs": [
        {
          "execution_count": 65,
          "output_type": "execute_result",
          "data": {
            "text/plain": "array([0., 0., 0., 0., 0., 0., 0., 0., 0., 0., 0., 0., 0., 0., 0., 0., 0.,\n       0., 0., 0., 0., 0., 0., 0., 0., 0., 0., 0., 0., 0., 0., 0., 0., 0.,\n       0., 0., 0., 0., 0., 0., 0., 0., 0., 0., 0., 0., 0., 0., 0., 0., 0.,\n       0., 0., 0., 0., 0., 0., 0., 0., 0., 0., 0., 0., 0., 0., 0., 0., 0.,\n       0., 0., 0., 0., 0., 0., 0., 0., 0., 0., 0., 0., 0., 0., 0., 0., 0.,\n       0., 0., 0., 0., 0., 0., 0., 0., 0., 0., 0., 0., 0., 0., 0., 0., 0.,\n       0., 0., 0., 0., 0., 0., 0., 0., 0., 0., 0., 0., 0., 0., 0., 0., 0.,\n       0., 0., 0., 0., 0., 0., 0., 0., 0., 0., 0., 0., 0., 0., 0., 0., 0.,\n       0., 0., 0., 0., 0., 0., 0., 0., 0., 0., 0., 0., 0., 0., 0., 0., 0.,\n       0., 0., 0., 0., 0., 0., 0., 0., 0., 0., 0., 0., 0., 0., 0., 0., 0.,\n       0., 0., 0., 0., 0., 0., 0., 0., 0., 0., 0., 0., 0., 0., 0., 0., 0.,\n       0., 0., 0., 0., 0., 0., 0., 0., 0., 0., 0., 0., 0., 0., 0., 0., 0.,\n       0., 0., 0., 0., 0., 0., 0., 0., 0., 0., 0., 0., 0., 0., 0., 0., 0.,\n       0., 0., 0., 0., 0., 0., 0., 0., 0., 0., 0., 0., 0., 0., 0., 0., 0.,\n       0., 0., 0., 0., 0., 0., 0., 0., 0., 0., 0., 0., 0., 0., 0., 0., 0.,\n       0., 0., 0., 0., 0., 0., 0., 0., 0., 0., 0., 0., 0., 0., 0., 0., 0.,\n       0., 0., 0., 0., 0., 0., 0., 0., 0., 0., 0., 0., 0., 0., 0., 0., 0.,\n       0., 0., 0., 0., 0., 0., 0., 0., 0., 0., 0., 0., 0., 0., 0., 0., 0.,\n       0., 0., 0., 0., 0., 0., 0., 0., 0., 0., 0., 0., 0., 0., 0., 0., 0.,\n       0., 0., 0., 0., 0., 0., 0., 0., 0., 0., 0., 0., 0., 0., 0., 0., 0.,\n       0., 0., 0., 0., 0., 0., 0., 0., 0., 0., 0., 0., 0., 0., 0., 0., 0.,\n       0., 0., 0., 0., 0., 0., 0., 0., 0., 0., 0., 0., 0., 0., 0., 0., 0.,\n       0., 0., 0., 0., 0., 0., 0., 0., 0., 0., 0., 0., 0., 0., 0., 0., 0.,\n       0., 0., 0., 0., 0., 0., 0., 0., 0., 0., 0., 0., 0., 0., 0., 0., 0.,\n       0., 0., 0., 0., 0., 0., 0., 0., 0., 0., 0., 0., 0., 0., 0., 0., 0.,\n       0., 0., 0., 0., 0., 0., 0., 0., 0., 0., 0., 0., 0., 0., 0., 0., 0.,\n       0., 0., 0., 0., 0., 0., 0., 0., 0., 0., 0., 0., 0., 0., 0., 0., 0.,\n       0., 0., 0., 0., 0., 0., 0., 0., 0., 0., 0., 0., 0., 0., 0., 0., 0.,\n       0., 0., 0., 0., 0., 0., 0., 0., 0., 0., 0., 0., 0., 0., 0., 0., 0.,\n       0., 0., 0., 0., 0., 0., 0., 0., 0., 0., 0., 0., 0., 0., 0., 0., 0.,\n       0., 0., 0., 0., 0., 0., 0., 0., 0., 0., 0., 0., 0., 0., 0., 0., 0.,\n       0., 0., 0., 0., 0., 0., 0., 0., 0., 0., 0., 0., 0., 0., 0., 0., 0.,\n       0., 0., 0., 0., 0., 0., 0., 0., 0., 0., 0., 0., 0., 0., 0., 0., 0.,\n       0., 0., 0., 0., 0., 0., 0., 0., 0., 0., 0., 0., 0., 0., 0., 0., 0.,\n       0., 0., 0., 0., 0., 0., 0., 0., 0., 0., 0., 0., 0., 0., 0., 0., 0.,\n       0., 0., 0., 0., 0., 0., 0., 0., 0., 0., 0., 0., 0., 0., 0., 0., 0.,\n       0., 0., 0., 0., 0., 0., 0., 0., 0., 0., 0., 0., 0., 0., 0., 0., 0.,\n       0., 0., 0., 0., 0., 0., 0., 0., 0., 0., 0., 0., 0., 0., 0., 0., 0.,\n       0., 0., 0., 0., 0., 0., 0., 0., 0.])"
          },
          "metadata": {}
        }
      ]
    },
    {
      "cell_type": "markdown",
      "source": "#### Q15) Using the `predictions`, `predict_proba` and the `y_test` dataframe calculate the value for each metric using the appropriate function.\n",
      "metadata": {}
    },
    {
      "cell_type": "code",
      "source": "#Enter Your Code, Execute and take the Screenshot",
      "metadata": {},
      "execution_count": null,
      "outputs": []
    },
    {
      "cell_type": "code",
      "source": "LR_Accuracy_Score = accuracy_score(y_test, predictions)\nLR_JaccardIndex = jaccard_score(y_test, predictions)\n\nLR_F1_Score = f1_score(y_test, predictions)\nLR_Log_Loss = log_loss(y_test, predict_proba )\n\nReport = pd.DataFrame([[LR_Accuracy_Score, LR_JaccardIndex, LR_F1_Score,LR_Log_Loss]], columns=['LR_Accuracy_Score', 'LR_JaccardIndex', 'LR_F1_Score','LR_Log_Loss'])\nReport",
      "metadata": {
        "trusted": true
      },
      "execution_count": 66,
      "outputs": [
        {
          "execution_count": 66,
          "output_type": "execute_result",
          "data": {
            "text/plain": "   LR_Accuracy_Score  LR_JaccardIndex  LR_F1_Score  LR_Log_Loss\n0           0.722137              0.0          0.0     0.608953",
            "text/html": "<div>\n<style scoped>\n    .dataframe tbody tr th:only-of-type {\n        vertical-align: middle;\n    }\n\n    .dataframe tbody tr th {\n        vertical-align: top;\n    }\n\n    .dataframe thead th {\n        text-align: right;\n    }\n</style>\n<table border=\"1\" class=\"dataframe\">\n  <thead>\n    <tr style=\"text-align: right;\">\n      <th></th>\n      <th>LR_Accuracy_Score</th>\n      <th>LR_JaccardIndex</th>\n      <th>LR_F1_Score</th>\n      <th>LR_Log_Loss</th>\n    </tr>\n  </thead>\n  <tbody>\n    <tr>\n      <th>0</th>\n      <td>0.722137</td>\n      <td>0.0</td>\n      <td>0.0</td>\n      <td>0.608953</td>\n    </tr>\n  </tbody>\n</table>\n</div>"
          },
          "metadata": {}
        }
      ]
    },
    {
      "cell_type": "markdown",
      "source": "### SVM\n",
      "metadata": {}
    },
    {
      "cell_type": "markdown",
      "source": "#### Q16) Create and train a SVM model called SVM using the training data (`x_train`, `y_train`).\n",
      "metadata": {}
    },
    {
      "cell_type": "code",
      "source": "#Enter Your Code Below, Execute, and Save the Screenshot of the Final Output",
      "metadata": {},
      "execution_count": null,
      "outputs": []
    },
    {
      "cell_type": "code",
      "source": "from sklearn.svm import SVC\nSVM = SVC(kernel='rbf')\nSVM.fit(x_train, y_train)",
      "metadata": {
        "trusted": true
      },
      "execution_count": 68,
      "outputs": [
        {
          "execution_count": 68,
          "output_type": "execute_result",
          "data": {
            "text/plain": "SVC()"
          },
          "metadata": {}
        }
      ]
    },
    {
      "cell_type": "markdown",
      "source": "#### Q17) Now use the `predict` method on the testing data (`x_test`) and save it to the array `predictions`.\n",
      "metadata": {}
    },
    {
      "cell_type": "code",
      "source": "#Enter Your Code Below, Execute, and Save the Screenshot of the Final Output",
      "metadata": {},
      "execution_count": null,
      "outputs": []
    },
    {
      "cell_type": "code",
      "source": "predictions = SVM.predict(x_test)\n",
      "metadata": {
        "trusted": true
      },
      "execution_count": 69,
      "outputs": []
    },
    {
      "cell_type": "markdown",
      "source": "#### Q18) Using the `predictions` and the `y_test` dataframe calculate the value for each metric using the appropriate function.\n",
      "metadata": {}
    },
    {
      "cell_type": "code",
      "source": "SVM_Accuracy_Score = accuracy_score(y_test, predictions)\nSVM_JaccardIndex = jaccard_score(y_test, predictions)\nSVM_F1_Score = f1_score(y_test, predictions)\n\nReport = pd.DataFrame([[SVM_Accuracy_Score, SVM_JaccardIndex, SVM_F1_Score]], columns=['SVM_Accuracy_Score', 'SVM_JaccardIndex', 'SVM_F1_Score'])\nReport",
      "metadata": {
        "trusted": true
      },
      "execution_count": 70,
      "outputs": [
        {
          "execution_count": 70,
          "output_type": "execute_result",
          "data": {
            "text/plain": "   SVM_Accuracy_Score  SVM_JaccardIndex  SVM_F1_Score\n0            0.722137               0.0           0.0",
            "text/html": "<div>\n<style scoped>\n    .dataframe tbody tr th:only-of-type {\n        vertical-align: middle;\n    }\n\n    .dataframe tbody tr th {\n        vertical-align: top;\n    }\n\n    .dataframe thead th {\n        text-align: right;\n    }\n</style>\n<table border=\"1\" class=\"dataframe\">\n  <thead>\n    <tr style=\"text-align: right;\">\n      <th></th>\n      <th>SVM_Accuracy_Score</th>\n      <th>SVM_JaccardIndex</th>\n      <th>SVM_F1_Score</th>\n    </tr>\n  </thead>\n  <tbody>\n    <tr>\n      <th>0</th>\n      <td>0.722137</td>\n      <td>0.0</td>\n      <td>0.0</td>\n    </tr>\n  </tbody>\n</table>\n</div>"
          },
          "metadata": {}
        }
      ]
    },
    {
      "cell_type": "markdown",
      "source": "### Report\n",
      "metadata": {}
    },
    {
      "cell_type": "markdown",
      "source": "#### Q19) Show the Accuracy,Jaccard Index,F1-Score and LogLoss in a tabular format using data frame for all of the above models.\n\n\\*LogLoss is only for Logistic Regression Model\n",
      "metadata": {}
    },
    {
      "cell_type": "code",
      "source": "Report = pd.DataFrame([[LinearRegression_MAE, LinearRegression_MSE, LinearRegression_R2,KNN_Accuracy_Score, KNN_JaccardIndex, KNN_F1_Score,Tree_Accuracy_Score, \n                        Tree_JaccardIndex, Tree_F1_Score,LR_Accuracy_Score, LR_JaccardIndex, LR_F1_Score,LR_Log_Loss,SVM_Accuracy_Score, SVM_JaccardIndex, SVM_F1_Score]], \n        columns=['LinearRegression_MAE', 'LinearRegression_MSE', 'LinearRegression_R2','KNN_Accuracy_Score', 'KNN_JaccardIndex', 'KNN_F1_Score','Tree_Accuracy_Score', \n                    'Tree_JaccardIndex', 'Tree_F1_Score','LR_Accuracy_Score', 'LR_JaccardIndex', 'LR_F1_Score','LR_Log_Loss','SVM_Accuracy_Score', 'SVM_JaccardIndex', \n                     'SVM_F1_Score'])\n\nReport",
      "metadata": {
        "trusted": true
      },
      "execution_count": 76,
      "outputs": [
        {
          "execution_count": 76,
          "output_type": "execute_result",
          "data": {
            "text/plain": "   LinearRegression_MAE  LinearRegression_MSE  LinearRegression_R2  \\\n0              0.256319               0.11572             0.427133   \n\n   KNN_Accuracy_Score  KNN_JaccardIndex  KNN_F1_Score  Tree_Accuracy_Score  \\\n0            0.818321          0.425121      0.802375             0.757252   \n\n   Tree_JaccardIndex  Tree_F1_Score  LR_Accuracy_Score  LR_JaccardIndex  \\\n0           0.404494          0.576           0.722137              0.0   \n\n   LR_F1_Score  LR_Log_Loss  SVM_Accuracy_Score  SVM_JaccardIndex  \\\n0          0.0     0.608953            0.722137               0.0   \n\n   SVM_F1_Score  \n0           0.0  ",
            "text/html": "<div>\n<style scoped>\n    .dataframe tbody tr th:only-of-type {\n        vertical-align: middle;\n    }\n\n    .dataframe tbody tr th {\n        vertical-align: top;\n    }\n\n    .dataframe thead th {\n        text-align: right;\n    }\n</style>\n<table border=\"1\" class=\"dataframe\">\n  <thead>\n    <tr style=\"text-align: right;\">\n      <th></th>\n      <th>LinearRegression_MAE</th>\n      <th>LinearRegression_MSE</th>\n      <th>LinearRegression_R2</th>\n      <th>KNN_Accuracy_Score</th>\n      <th>KNN_JaccardIndex</th>\n      <th>KNN_F1_Score</th>\n      <th>Tree_Accuracy_Score</th>\n      <th>Tree_JaccardIndex</th>\n      <th>Tree_F1_Score</th>\n      <th>LR_Accuracy_Score</th>\n      <th>LR_JaccardIndex</th>\n      <th>LR_F1_Score</th>\n      <th>LR_Log_Loss</th>\n      <th>SVM_Accuracy_Score</th>\n      <th>SVM_JaccardIndex</th>\n      <th>SVM_F1_Score</th>\n    </tr>\n  </thead>\n  <tbody>\n    <tr>\n      <th>0</th>\n      <td>0.256319</td>\n      <td>0.11572</td>\n      <td>0.427133</td>\n      <td>0.818321</td>\n      <td>0.425121</td>\n      <td>0.802375</td>\n      <td>0.757252</td>\n      <td>0.404494</td>\n      <td>0.576</td>\n      <td>0.722137</td>\n      <td>0.0</td>\n      <td>0.0</td>\n      <td>0.608953</td>\n      <td>0.722137</td>\n      <td>0.0</td>\n      <td>0.0</td>\n    </tr>\n  </tbody>\n</table>\n</div>"
          },
          "metadata": {}
        }
      ]
    },
    {
      "cell_type": "code",
      "source": "Report_melted = pd.melt(Report)\nReport_melted",
      "metadata": {
        "trusted": true
      },
      "execution_count": 78,
      "outputs": [
        {
          "execution_count": 78,
          "output_type": "execute_result",
          "data": {
            "text/plain": "                variable     value\n0   LinearRegression_MAE  0.256319\n1   LinearRegression_MSE  0.115720\n2    LinearRegression_R2  0.427133\n3     KNN_Accuracy_Score  0.818321\n4       KNN_JaccardIndex  0.425121\n5           KNN_F1_Score  0.802375\n6    Tree_Accuracy_Score  0.757252\n7      Tree_JaccardIndex  0.404494\n8          Tree_F1_Score  0.576000\n9      LR_Accuracy_Score  0.722137\n10       LR_JaccardIndex  0.000000\n11           LR_F1_Score  0.000000\n12           LR_Log_Loss  0.608953\n13    SVM_Accuracy_Score  0.722137\n14      SVM_JaccardIndex  0.000000\n15          SVM_F1_Score  0.000000",
            "text/html": "<div>\n<style scoped>\n    .dataframe tbody tr th:only-of-type {\n        vertical-align: middle;\n    }\n\n    .dataframe tbody tr th {\n        vertical-align: top;\n    }\n\n    .dataframe thead th {\n        text-align: right;\n    }\n</style>\n<table border=\"1\" class=\"dataframe\">\n  <thead>\n    <tr style=\"text-align: right;\">\n      <th></th>\n      <th>variable</th>\n      <th>value</th>\n    </tr>\n  </thead>\n  <tbody>\n    <tr>\n      <th>0</th>\n      <td>LinearRegression_MAE</td>\n      <td>0.256319</td>\n    </tr>\n    <tr>\n      <th>1</th>\n      <td>LinearRegression_MSE</td>\n      <td>0.115720</td>\n    </tr>\n    <tr>\n      <th>2</th>\n      <td>LinearRegression_R2</td>\n      <td>0.427133</td>\n    </tr>\n    <tr>\n      <th>3</th>\n      <td>KNN_Accuracy_Score</td>\n      <td>0.818321</td>\n    </tr>\n    <tr>\n      <th>4</th>\n      <td>KNN_JaccardIndex</td>\n      <td>0.425121</td>\n    </tr>\n    <tr>\n      <th>5</th>\n      <td>KNN_F1_Score</td>\n      <td>0.802375</td>\n    </tr>\n    <tr>\n      <th>6</th>\n      <td>Tree_Accuracy_Score</td>\n      <td>0.757252</td>\n    </tr>\n    <tr>\n      <th>7</th>\n      <td>Tree_JaccardIndex</td>\n      <td>0.404494</td>\n    </tr>\n    <tr>\n      <th>8</th>\n      <td>Tree_F1_Score</td>\n      <td>0.576000</td>\n    </tr>\n    <tr>\n      <th>9</th>\n      <td>LR_Accuracy_Score</td>\n      <td>0.722137</td>\n    </tr>\n    <tr>\n      <th>10</th>\n      <td>LR_JaccardIndex</td>\n      <td>0.000000</td>\n    </tr>\n    <tr>\n      <th>11</th>\n      <td>LR_F1_Score</td>\n      <td>0.000000</td>\n    </tr>\n    <tr>\n      <th>12</th>\n      <td>LR_Log_Loss</td>\n      <td>0.608953</td>\n    </tr>\n    <tr>\n      <th>13</th>\n      <td>SVM_Accuracy_Score</td>\n      <td>0.722137</td>\n    </tr>\n    <tr>\n      <th>14</th>\n      <td>SVM_JaccardIndex</td>\n      <td>0.000000</td>\n    </tr>\n    <tr>\n      <th>15</th>\n      <td>SVM_F1_Score</td>\n      <td>0.000000</td>\n    </tr>\n  </tbody>\n</table>\n</div>"
          },
          "metadata": {}
        }
      ]
    }
  ]
}